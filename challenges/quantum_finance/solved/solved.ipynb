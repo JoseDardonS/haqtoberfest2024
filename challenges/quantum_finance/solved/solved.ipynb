{
 "cells": [
  {
   "cell_type": "markdown",
   "metadata": {},
   "source": [
    "### Extract and clean time series data"
   ]
  },
  {
   "cell_type": "code",
   "execution_count": 1,
   "metadata": {},
   "outputs": [
    {
     "name": "stderr",
     "output_type": "stream",
     "text": [
      "[*********************100%***********************]  5 of 5 completed\n"
     ]
    }
   ],
   "source": [
    "from utils import fetch_log_returns\n",
    "training_dataset = fetch_log_returns(start = '1995-01-01', end ='1995-12-31')"
   ]
  },
  {
   "cell_type": "code",
   "execution_count": 2,
   "metadata": {},
   "outputs": [
    {
     "data": {
      "text/html": [
       "<div>\n",
       "<style scoped>\n",
       "    .dataframe tbody tr th:only-of-type {\n",
       "        vertical-align: middle;\n",
       "    }\n",
       "\n",
       "    .dataframe tbody tr th {\n",
       "        vertical-align: top;\n",
       "    }\n",
       "\n",
       "    .dataframe thead th {\n",
       "        text-align: right;\n",
       "    }\n",
       "</style>\n",
       "<table border=\"1\" class=\"dataframe\">\n",
       "  <thead>\n",
       "    <tr style=\"text-align: right;\">\n",
       "      <th></th>\n",
       "      <th>sp500</th>\n",
       "      <th>dax</th>\n",
       "      <th>ftse</th>\n",
       "      <th>nikkei</th>\n",
       "      <th>ibex</th>\n",
       "    </tr>\n",
       "    <tr>\n",
       "      <th>Date</th>\n",
       "      <th></th>\n",
       "      <th></th>\n",
       "      <th></th>\n",
       "      <th></th>\n",
       "      <th></th>\n",
       "    </tr>\n",
       "  </thead>\n",
       "  <tbody>\n",
       "    <tr>\n",
       "      <th>1995-01-05 00:00:00+00:00</th>\n",
       "      <td>-0.000803</td>\n",
       "      <td>-0.010397</td>\n",
       "      <td>-0.006345</td>\n",
       "      <td>-0.003457</td>\n",
       "      <td>-0.019565</td>\n",
       "    </tr>\n",
       "    <tr>\n",
       "      <th>1995-01-06 00:00:00+00:00</th>\n",
       "      <td>0.000738</td>\n",
       "      <td>0.003280</td>\n",
       "      <td>0.010726</td>\n",
       "      <td>-0.004939</td>\n",
       "      <td>0.000000</td>\n",
       "    </tr>\n",
       "    <tr>\n",
       "      <th>1995-01-09 00:00:00+00:00</th>\n",
       "      <td>0.000326</td>\n",
       "      <td>-0.002330</td>\n",
       "      <td>-0.003006</td>\n",
       "      <td>-0.003826</td>\n",
       "      <td>-0.014346</td>\n",
       "    </tr>\n",
       "    <tr>\n",
       "      <th>1995-01-10 00:00:00+00:00</th>\n",
       "      <td>0.001843</td>\n",
       "      <td>0.004213</td>\n",
       "      <td>0.001504</td>\n",
       "      <td>0.002903</td>\n",
       "      <td>-0.005274</td>\n",
       "    </tr>\n",
       "    <tr>\n",
       "      <th>1995-01-11 00:00:00+00:00</th>\n",
       "      <td>-0.000043</td>\n",
       "      <td>-0.000155</td>\n",
       "      <td>-0.003601</td>\n",
       "      <td>0.002408</td>\n",
       "      <td>-0.010125</td>\n",
       "    </tr>\n",
       "  </tbody>\n",
       "</table>\n",
       "</div>"
      ],
      "text/plain": [
       "                              sp500       dax      ftse    nikkei      ibex\n",
       "Date                                                                       \n",
       "1995-01-05 00:00:00+00:00 -0.000803 -0.010397 -0.006345 -0.003457 -0.019565\n",
       "1995-01-06 00:00:00+00:00  0.000738  0.003280  0.010726 -0.004939  0.000000\n",
       "1995-01-09 00:00:00+00:00  0.000326 -0.002330 -0.003006 -0.003826 -0.014346\n",
       "1995-01-10 00:00:00+00:00  0.001843  0.004213  0.001504  0.002903 -0.005274\n",
       "1995-01-11 00:00:00+00:00 -0.000043 -0.000155 -0.003601  0.002408 -0.010125"
      ]
     },
     "execution_count": 2,
     "metadata": {},
     "output_type": "execute_result"
    }
   ],
   "source": [
    "training_dataset.head()"
   ]
  },
  {
   "cell_type": "markdown",
   "metadata": {},
   "source": [
    "### Define the problem instance and model parameters"
   ]
  },
  {
   "cell_type": "code",
   "execution_count": 3,
   "metadata": {},
   "outputs": [],
   "source": [
    "from model_params import LAMBDA_1, LAMBDA_2, LAMBDA_3, NLAYERS, NSHOTS, NUM_ASSETS, SIGMA_TARGET, TWO_QUBIT_GATES, K, N, RISK_FREE_RATE\n"
   ]
  },
  {
   "cell_type": "markdown",
   "metadata": {},
   "source": [
    "### Build the circuit Ansatz (without angle embedding)"
   ]
  },
  {
   "cell_type": "code",
   "execution_count": 4,
   "metadata": {},
   "outputs": [
    {
     "name": "stdout",
     "output_type": "stream",
     "text": [
      "Hardware efficient circuit ansatz\n",
      "\n",
      "q0: ─U2─U2─o─────────────────U1─U2─o─────────────────U1─M─\n",
      "q1: ─U2─U2─X─o───────────────U1─U2─X─o───────────────U1─M─\n",
      "q2: ─U2─U2───X─o─────────────U1─U2───X─o─────────────U1─M─\n",
      "q3: ─U2─U2─────X─o───────────U1─U2─────X─o───────────U1─M─\n",
      "q4: ─U2─U2───────X─o─────────U1─U2───────X─o─────────U1─M─\n",
      "q5: ─U2─U2─────────X─o───────U1─U2─────────X─o───────U1─M─\n",
      "q6: ─U2─U2───────────X─o─────U1─U2───────────X─o─────U1─M─\n",
      "q7: ─U2─U2─────────────X─o───U1─U2─────────────X─o───U1─M─\n",
      "q8: ─U2─U2───────────────X─o─U1─U2───────────────X─o─U1─M─\n",
      "q9: ─U2─U2─────────────────X─U1─U2─────────────────X─U1─M─\n"
     ]
    }
   ],
   "source": [
    "from ansatz import build_hardware_efficient_ansatz\n",
    "from ansatz import compute_number_of_params\n",
    "ansatz = build_hardware_efficient_ansatz(num_qubits=N, num_layers=NLAYERS, params=[0]*compute_number_of_params(N,NLAYERS))\n",
    "print('Hardware efficient circuit ansatz')\n",
    "print()\n",
    "print(ansatz.draw())\n"
   ]
  },
  {
   "cell_type": "markdown",
   "metadata": {},
   "source": [
    "### Build the Portfolio Optimization Hamiltonian and run the optimization process\n"
   ]
  },
  {
   "cell_type": "code",
   "execution_count": 17,
   "metadata": {},
   "outputs": [
    {
     "ename": "TypeError",
     "evalue": "'numpy.float64' object is not callable",
     "output_type": "error",
     "traceback": [
      "\u001b[0;31m---------------------------------------------------------------------------\u001b[0m",
      "\u001b[0;31mTypeError\u001b[0m                                 Traceback (most recent call last)",
      "Cell \u001b[0;32mIn[17], line 9\u001b[0m\n\u001b[1;32m      6\u001b[0m initial_params \u001b[38;5;241m=\u001b[39m np\u001b[38;5;241m.\u001b[39mrandom\u001b[38;5;241m.\u001b[39muniform(\u001b[38;5;241m0\u001b[39m, \u001b[38;5;241m2\u001b[39m\u001b[38;5;241m*\u001b[39mnp\u001b[38;5;241m.\u001b[39mpi, compute_number_of_params(N,NLAYERS))\n\u001b[1;32m      8\u001b[0m \u001b[38;5;66;03m# perform optimization\u001b[39;00m\n\u001b[0;32m----> 9\u001b[0m best, optimal_params, extra \u001b[38;5;241m=\u001b[39m \u001b[43moptimize\u001b[49m\u001b[43m(\u001b[49m\u001b[43mcompute_total_energy\u001b[49m\u001b[43m(\u001b[49m\u001b[43mparameters\u001b[49m\u001b[38;5;241;43m=\u001b[39;49m\u001b[43minitial_params\u001b[49m\u001b[43m,\u001b[49m\u001b[43mdataset\u001b[49m\u001b[38;5;241;43m=\u001b[39;49m\u001b[43mtraining_dataset\u001b[49m\u001b[43m)\u001b[49m\u001b[43m,\u001b[49m\u001b[43m \u001b[49m\u001b[43minitial_params\u001b[49m\u001b[43m)\u001b[49m\n\u001b[1;32m     11\u001b[0m \u001b[38;5;66;03m# set final solution to circuit instance\u001b[39;00m\n\u001b[1;32m     12\u001b[0m \u001b[38;5;28mprint\u001b[39m(\u001b[38;5;124m'\u001b[39m\u001b[38;5;124mGround state energy:\u001b[39m\u001b[38;5;124m'\u001b[39m, best)\n",
      "File \u001b[0;32m~/miniconda3/envs/haqtoberfest24/lib/python3.12/site-packages/qibo/optimizers.py:99\u001b[0m, in \u001b[0;36moptimize\u001b[0;34m(loss, initial_parameters, args, method, jac, hess, hessp, bounds, constraints, tol, callback, options, compile, processes, backend)\u001b[0m\n\u001b[1;32m     95\u001b[0m \u001b[38;5;28;01mfrom\u001b[39;00m \u001b[38;5;21;01mqibo\u001b[39;00m\u001b[38;5;21;01m.\u001b[39;00m\u001b[38;5;21;01mbackends\u001b[39;00m \u001b[38;5;28;01mimport\u001b[39;00m _check_backend\n\u001b[1;32m     97\u001b[0m backend \u001b[38;5;241m=\u001b[39m _check_backend(backend)\n\u001b[0;32m---> 99\u001b[0m \u001b[38;5;28;01mreturn\u001b[39;00m \u001b[43mnewtonian\u001b[49m\u001b[43m(\u001b[49m\n\u001b[1;32m    100\u001b[0m \u001b[43m    \u001b[49m\u001b[43mloss\u001b[49m\u001b[43m,\u001b[49m\n\u001b[1;32m    101\u001b[0m \u001b[43m    \u001b[49m\u001b[43minitial_parameters\u001b[49m\u001b[43m,\u001b[49m\n\u001b[1;32m    102\u001b[0m \u001b[43m    \u001b[49m\u001b[43margs\u001b[49m\u001b[43m,\u001b[49m\n\u001b[1;32m    103\u001b[0m \u001b[43m    \u001b[49m\u001b[43mmethod\u001b[49m\u001b[43m,\u001b[49m\n\u001b[1;32m    104\u001b[0m \u001b[43m    \u001b[49m\u001b[43mjac\u001b[49m\u001b[43m,\u001b[49m\n\u001b[1;32m    105\u001b[0m \u001b[43m    \u001b[49m\u001b[43mhess\u001b[49m\u001b[43m,\u001b[49m\n\u001b[1;32m    106\u001b[0m \u001b[43m    \u001b[49m\u001b[43mhessp\u001b[49m\u001b[43m,\u001b[49m\n\u001b[1;32m    107\u001b[0m \u001b[43m    \u001b[49m\u001b[43mbounds\u001b[49m\u001b[43m,\u001b[49m\n\u001b[1;32m    108\u001b[0m \u001b[43m    \u001b[49m\u001b[43mconstraints\u001b[49m\u001b[43m,\u001b[49m\n\u001b[1;32m    109\u001b[0m \u001b[43m    \u001b[49m\u001b[43mtol\u001b[49m\u001b[43m,\u001b[49m\n\u001b[1;32m    110\u001b[0m \u001b[43m    \u001b[49m\u001b[43mcallback\u001b[49m\u001b[43m,\u001b[49m\n\u001b[1;32m    111\u001b[0m \u001b[43m    \u001b[49m\u001b[43moptions\u001b[49m\u001b[43m,\u001b[49m\n\u001b[1;32m    112\u001b[0m \u001b[43m    \u001b[49m\u001b[43mprocesses\u001b[49m\u001b[43m,\u001b[49m\n\u001b[1;32m    113\u001b[0m \u001b[43m    \u001b[49m\u001b[43mbackend\u001b[49m\u001b[43m,\u001b[49m\n\u001b[1;32m    114\u001b[0m \u001b[43m\u001b[49m\u001b[43m)\u001b[49m\n",
      "File \u001b[0;32m~/miniconda3/envs/haqtoberfest24/lib/python3.12/site-packages/qibo/optimizers.py:199\u001b[0m, in \u001b[0;36mnewtonian\u001b[0;34m(loss, initial_parameters, args, method, jac, hess, hessp, bounds, constraints, tol, callback, options, processes, backend)\u001b[0m\n\u001b[1;32m    196\u001b[0m \u001b[38;5;28;01melse\u001b[39;00m:\n\u001b[1;32m    197\u001b[0m     \u001b[38;5;28;01mfrom\u001b[39;00m \u001b[38;5;21;01mscipy\u001b[39;00m\u001b[38;5;21;01m.\u001b[39;00m\u001b[38;5;21;01moptimize\u001b[39;00m \u001b[38;5;28;01mimport\u001b[39;00m minimize\n\u001b[0;32m--> 199\u001b[0m     m \u001b[38;5;241m=\u001b[39m \u001b[43mminimize\u001b[49m\u001b[43m(\u001b[49m\n\u001b[1;32m    200\u001b[0m \u001b[43m        \u001b[49m\u001b[43mloss\u001b[49m\u001b[43m,\u001b[49m\n\u001b[1;32m    201\u001b[0m \u001b[43m        \u001b[49m\u001b[43minitial_parameters\u001b[49m\u001b[43m,\u001b[49m\n\u001b[1;32m    202\u001b[0m \u001b[43m        \u001b[49m\u001b[43margs\u001b[49m\u001b[38;5;241;43m=\u001b[39;49m\u001b[43margs\u001b[49m\u001b[43m,\u001b[49m\n\u001b[1;32m    203\u001b[0m \u001b[43m        \u001b[49m\u001b[43mmethod\u001b[49m\u001b[38;5;241;43m=\u001b[39;49m\u001b[43mmethod\u001b[49m\u001b[43m,\u001b[49m\n\u001b[1;32m    204\u001b[0m \u001b[43m        \u001b[49m\u001b[43mjac\u001b[49m\u001b[38;5;241;43m=\u001b[39;49m\u001b[43mjac\u001b[49m\u001b[43m,\u001b[49m\n\u001b[1;32m    205\u001b[0m \u001b[43m        \u001b[49m\u001b[43mhess\u001b[49m\u001b[38;5;241;43m=\u001b[39;49m\u001b[43mhess\u001b[49m\u001b[43m,\u001b[49m\n\u001b[1;32m    206\u001b[0m \u001b[43m        \u001b[49m\u001b[43mhessp\u001b[49m\u001b[38;5;241;43m=\u001b[39;49m\u001b[43mhessp\u001b[49m\u001b[43m,\u001b[49m\n\u001b[1;32m    207\u001b[0m \u001b[43m        \u001b[49m\u001b[43mbounds\u001b[49m\u001b[38;5;241;43m=\u001b[39;49m\u001b[43mbounds\u001b[49m\u001b[43m,\u001b[49m\n\u001b[1;32m    208\u001b[0m \u001b[43m        \u001b[49m\u001b[43mconstraints\u001b[49m\u001b[38;5;241;43m=\u001b[39;49m\u001b[43mconstraints\u001b[49m\u001b[43m,\u001b[49m\n\u001b[1;32m    209\u001b[0m \u001b[43m        \u001b[49m\u001b[43mtol\u001b[49m\u001b[38;5;241;43m=\u001b[39;49m\u001b[43mtol\u001b[49m\u001b[43m,\u001b[49m\n\u001b[1;32m    210\u001b[0m \u001b[43m        \u001b[49m\u001b[43mcallback\u001b[49m\u001b[38;5;241;43m=\u001b[39;49m\u001b[43mcallback\u001b[49m\u001b[43m,\u001b[49m\n\u001b[1;32m    211\u001b[0m \u001b[43m        \u001b[49m\u001b[43moptions\u001b[49m\u001b[38;5;241;43m=\u001b[39;49m\u001b[43moptions\u001b[49m\u001b[43m,\u001b[49m\n\u001b[1;32m    212\u001b[0m \u001b[43m    \u001b[49m\u001b[43m)\u001b[49m\n\u001b[1;32m    213\u001b[0m \u001b[38;5;28;01mreturn\u001b[39;00m m\u001b[38;5;241m.\u001b[39mfun, m\u001b[38;5;241m.\u001b[39mx, m\n",
      "File \u001b[0;32m~/miniconda3/envs/haqtoberfest24/lib/python3.12/site-packages/scipy/optimize/_minimize.py:722\u001b[0m, in \u001b[0;36mminimize\u001b[0;34m(fun, x0, args, method, jac, hess, hessp, bounds, constraints, tol, callback, options)\u001b[0m\n\u001b[1;32m    719\u001b[0m     res \u001b[38;5;241m=\u001b[39m _minimize_neldermead(fun, x0, args, callback, bounds\u001b[38;5;241m=\u001b[39mbounds,\n\u001b[1;32m    720\u001b[0m                                \u001b[38;5;241m*\u001b[39m\u001b[38;5;241m*\u001b[39moptions)\n\u001b[1;32m    721\u001b[0m \u001b[38;5;28;01melif\u001b[39;00m meth \u001b[38;5;241m==\u001b[39m \u001b[38;5;124m'\u001b[39m\u001b[38;5;124mpowell\u001b[39m\u001b[38;5;124m'\u001b[39m:\n\u001b[0;32m--> 722\u001b[0m     res \u001b[38;5;241m=\u001b[39m \u001b[43m_minimize_powell\u001b[49m\u001b[43m(\u001b[49m\u001b[43mfun\u001b[49m\u001b[43m,\u001b[49m\u001b[43m \u001b[49m\u001b[43mx0\u001b[49m\u001b[43m,\u001b[49m\u001b[43m \u001b[49m\u001b[43margs\u001b[49m\u001b[43m,\u001b[49m\u001b[43m \u001b[49m\u001b[43mcallback\u001b[49m\u001b[43m,\u001b[49m\u001b[43m \u001b[49m\u001b[43mbounds\u001b[49m\u001b[43m,\u001b[49m\u001b[43m \u001b[49m\u001b[38;5;241;43m*\u001b[39;49m\u001b[38;5;241;43m*\u001b[39;49m\u001b[43moptions\u001b[49m\u001b[43m)\u001b[49m\n\u001b[1;32m    723\u001b[0m \u001b[38;5;28;01melif\u001b[39;00m meth \u001b[38;5;241m==\u001b[39m \u001b[38;5;124m'\u001b[39m\u001b[38;5;124mcg\u001b[39m\u001b[38;5;124m'\u001b[39m:\n\u001b[1;32m    724\u001b[0m     res \u001b[38;5;241m=\u001b[39m _minimize_cg(fun, x0, args, jac, callback, \u001b[38;5;241m*\u001b[39m\u001b[38;5;241m*\u001b[39moptions)\n",
      "File \u001b[0;32m~/miniconda3/envs/haqtoberfest24/lib/python3.12/site-packages/scipy/optimize/_optimize.py:3479\u001b[0m, in \u001b[0;36m_minimize_powell\u001b[0;34m(func, x0, args, callback, bounds, xtol, ftol, maxiter, maxfev, disp, direc, return_all, **unknown_options)\u001b[0m\n\u001b[1;32m   3475\u001b[0m     \u001b[38;5;28;01mif\u001b[39;00m np\u001b[38;5;241m.\u001b[39many(lower_bound \u001b[38;5;241m>\u001b[39m x0) \u001b[38;5;129;01mor\u001b[39;00m np\u001b[38;5;241m.\u001b[39many(x0 \u001b[38;5;241m>\u001b[39m upper_bound):\n\u001b[1;32m   3476\u001b[0m         warnings\u001b[38;5;241m.\u001b[39mwarn(\u001b[38;5;124m\"\u001b[39m\u001b[38;5;124mInitial guess is not within the specified bounds\u001b[39m\u001b[38;5;124m\"\u001b[39m,\n\u001b[1;32m   3477\u001b[0m                       OptimizeWarning, stacklevel\u001b[38;5;241m=\u001b[39m\u001b[38;5;241m3\u001b[39m)\n\u001b[0;32m-> 3479\u001b[0m fval \u001b[38;5;241m=\u001b[39m squeeze(\u001b[43mfunc\u001b[49m\u001b[43m(\u001b[49m\u001b[43mx\u001b[49m\u001b[43m)\u001b[49m)\n\u001b[1;32m   3480\u001b[0m x1 \u001b[38;5;241m=\u001b[39m x\u001b[38;5;241m.\u001b[39mcopy()\n\u001b[1;32m   3481\u001b[0m \u001b[38;5;28miter\u001b[39m \u001b[38;5;241m=\u001b[39m \u001b[38;5;241m0\u001b[39m\n",
      "File \u001b[0;32m~/miniconda3/envs/haqtoberfest24/lib/python3.12/site-packages/scipy/optimize/_optimize.py:526\u001b[0m, in \u001b[0;36m_wrap_scalar_function_maxfun_validation.<locals>.function_wrapper\u001b[0;34m(x, *wrapper_args)\u001b[0m\n\u001b[1;32m    524\u001b[0m ncalls[\u001b[38;5;241m0\u001b[39m] \u001b[38;5;241m+\u001b[39m\u001b[38;5;241m=\u001b[39m \u001b[38;5;241m1\u001b[39m\n\u001b[1;32m    525\u001b[0m \u001b[38;5;66;03m# A copy of x is sent to the user function (gh13740)\u001b[39;00m\n\u001b[0;32m--> 526\u001b[0m fx \u001b[38;5;241m=\u001b[39m \u001b[43mfunction\u001b[49m\u001b[43m(\u001b[49m\u001b[43mnp\u001b[49m\u001b[38;5;241;43m.\u001b[39;49m\u001b[43mcopy\u001b[49m\u001b[43m(\u001b[49m\u001b[43mx\u001b[49m\u001b[43m)\u001b[49m\u001b[43m,\u001b[49m\u001b[43m \u001b[49m\u001b[38;5;241;43m*\u001b[39;49m\u001b[43m(\u001b[49m\u001b[43mwrapper_args\u001b[49m\u001b[43m \u001b[49m\u001b[38;5;241;43m+\u001b[39;49m\u001b[43m \u001b[49m\u001b[43margs\u001b[49m\u001b[43m)\u001b[49m\u001b[43m)\u001b[49m\n\u001b[1;32m    527\u001b[0m \u001b[38;5;66;03m# Ideally, we'd like to a have a true scalar returned from f(x). For\u001b[39;00m\n\u001b[1;32m    528\u001b[0m \u001b[38;5;66;03m# backwards-compatibility, also allow np.array([1.3]),\u001b[39;00m\n\u001b[1;32m    529\u001b[0m \u001b[38;5;66;03m# np.array([[1.3]]) etc.\u001b[39;00m\n\u001b[1;32m    530\u001b[0m \u001b[38;5;28;01mif\u001b[39;00m \u001b[38;5;129;01mnot\u001b[39;00m np\u001b[38;5;241m.\u001b[39misscalar(fx):\n",
      "\u001b[0;31mTypeError\u001b[0m: 'numpy.float64' object is not callable"
     ]
    }
   ],
   "source": [
    "import numpy as np\n",
    "from qibo.optimizers import optimize\n",
    "from cost_function import compute_total_energy\n",
    "\n",
    "# Optimize starting from a random guess for the variational parameters\n",
    "initial_params = np.random.uniform(0, 2*np.pi, compute_number_of_params(N,NLAYERS))\n",
    "\n",
    "# perform optimization\n",
    "best, optimal_params, extra = optimize(compute_total_energy(parameters=initial_params,dataset=training_dataset), initial_params)\n",
    "\n",
    "# set final solution to circuit instance\n",
    "print('Ground state energy:', best)\n",
    "print()\n",
    "print('Optimal parameters', optimal_params)\n",
    "print()\n",
    "print('Optimization process info', extra)"
   ]
  },
  {
   "cell_type": "code",
   "execution_count": null,
   "metadata": {},
   "outputs": [],
   "source": []
  },
  {
   "cell_type": "markdown",
   "metadata": {},
   "source": [
    "### Results parsing\n"
   ]
  },
  {
   "cell_type": "code",
   "execution_count": 6,
   "metadata": {},
   "outputs": [],
   "source": [
    "from results_parsing import get_optimal_binary_portfolios_prob_and_energy\n",
    "\n",
    "optimized_ansatz = ansatz.set_parameters(optimal_params)\n",
    "optimal_binary_portfolios = get_optimal_binary_portfolios_prob_and_energy(ansatz, training_dataset)\n"
   ]
  },
  {
   "cell_type": "code",
   "execution_count": 7,
   "metadata": {},
   "outputs": [
    {
     "data": {
      "text/plain": [
       "{'0000001110': {'stat_freq': 0.01, 'energy': 563.8734615202803},\n",
       " '0000101100': {'stat_freq': 0.01, 'energy': 563.8777181830939},\n",
       " '0000111000': {'stat_freq': 0.01, 'energy': 563.9228291499591},\n",
       " '0000111101': {'stat_freq': 0.01, 'energy': 351.46410189183257},\n",
       " '0001000101': {'stat_freq': 0.01, 'energy': 451.41346028289877},\n",
       " '0001001100': {'stat_freq': 0.02, 'energy': 506.0631886233391},\n",
       " '0001001101': {'stat_freq': 0.02, 'energy': 399.8521259925734},\n",
       " '0001001111': {'stat_freq': 0.02, 'energy': 351.4340929499151},\n",
       " '0001011110': {'stat_freq': 0.01, 'energy': 351.44260789518415},\n",
       " '0001100100': {'stat_freq': 0.01, 'energy': 506.08574883705677},\n",
       " '0001100101': {'stat_freq': 0.04, 'energy': 399.87468620638737},\n",
       " '0001100110': {'stat_freq': 0.02, 'energy': 451.4177180974767},\n",
       " '0001100111': {'stat_freq': 0.02, 'energy': 351.4566531637411},\n",
       " '0001101001': {'stat_freq': 0.01, 'energy': 451.43601654213955},\n",
       " '0001101101': {'stat_freq': 0.02, 'energy': 351.43835191613465},\n",
       " '0001101111': {'stat_freq': 0.01, 'energy': 306.1453188734975},\n",
       " '0010011000': {'stat_freq': 0.01, 'energy': 563.9099570774026},\n",
       " '0010100111': {'stat_freq': 0.01, 'energy': 399.8833069799652},\n",
       " '0010110010': {'stat_freq': 0.01, 'energy': 506.13947497200024},\n",
       " '0010110011': {'stat_freq': 0.01, 'energy': 399.9284100379303},\n",
       " '0010110111': {'stat_freq': 0.01, 'energy': 306.1807533201421},\n",
       " '0010111000': {'stat_freq': 0.02, 'energy': 506.1211793296353},\n",
       " '0010111001': {'stat_freq': 0.01, 'energy': 399.91011669866157},\n",
       " '0011001101': {'stat_freq': 0.01, 'energy': 351.42546817922755},\n",
       " '0011010010': {'stat_freq': 0.01, 'energy': 451.44994108931695},\n",
       " '0011011000': {'stat_freq': 0.01, 'energy': 451.4316454473488},\n",
       " '0011011111': {'stat_freq': 0.01, 'energy': 224.9298851483165},\n",
       " '0011100101': {'stat_freq': 0.01, 'energy': 351.44802839308323},\n",
       " '0011100110': {'stat_freq': 0.01, 'energy': 399.86606028414496},\n",
       " '0011100111': {'stat_freq': 0.01, 'energy': 306.1549953504462},\n",
       " '0100000011': {'stat_freq': 0.01, 'energy': 506.1689839708097},\n",
       " '0100000111': {'stat_freq': 0.02, 'energy': 399.921327251374},\n",
       " '0100111000': {'stat_freq': 0.01, 'energy': 451.4954255244423},\n",
       " '0101000010': {'stat_freq': 0.01, 'energy': 506.1517452669313},\n",
       " '0101000101': {'stat_freq': 0.01, 'energy': 351.4860566581476},\n",
       " '0101000110': {'stat_freq': 0.01, 'energy': 399.90408854922794},\n",
       " '0101001011': {'stat_freq': 0.01, 'energy': 351.5043539511983},\n",
       " '0101001101': {'stat_freq': 0.02, 'energy': 306.17472236790513},\n",
       " '0101001111': {'stat_freq': 0.01, 'energy': 264.00668932527094},\n",
       " '0101011111': {'stat_freq': 0.01, 'energy': 189.05413933719933},\n",
       " '0101100111': {'stat_freq': 0.01, 'energy': 264.02924953920643},\n",
       " '0101101101': {'stat_freq': 0.01, 'energy': 264.0109482916587},\n",
       " '0101101111': {'stat_freq': 0.01, 'energy': 224.96791524904566},\n",
       " '0110010000': {'stat_freq': 0.01, 'energy': 506.16887983428745},\n",
       " '0110010010': {'stat_freq': 0.01, 'energy': 451.5008490943889},\n",
       " '0110100111': {'stat_freq': 0.01, 'energy': 306.2059033551792},\n",
       " '0110110010': {'stat_freq': 0.01, 'energy': 399.9620713466086},\n",
       " '0111010100': {'stat_freq': 0.01, 'energy': 306.1929114870508},\n",
       " '0111100110': {'stat_freq': 0.01, 'energy': 306.1886566595975},\n",
       " '0111101101': {'stat_freq': 0.01, 'energy': 224.95929047846994},\n",
       " '1000010001': {'stat_freq': 0.01, 'energy': 506.16066949097575},\n",
       " '1000010010': {'stat_freq': 0.01, 'energy': 563.9537013824214},\n",
       " '1001110011': {'stat_freq': 0.01, 'energy': 306.22555506327143},\n",
       " '1001111000': {'stat_freq': 0.01, 'energy': 399.91832435532535},\n",
       " '1010010011': {'stat_freq': 0.01, 'energy': 399.94098662769915},\n",
       " '1010110000': {'stat_freq': 0.01, 'energy': 506.15630455385354},\n",
       " '1010110001': {'stat_freq': 0.01, 'energy': 399.94524192263606},\n",
       " '1011011010': {'stat_freq': 0.01, 'energy': 351.4874135501165},\n",
       " '1011110011': {'stat_freq': 0.01, 'energy': 264.0488972498346},\n",
       " '1011111010': {'stat_freq': 0.01, 'energy': 306.19863580245305},\n",
       " '1100001100': {'stat_freq': 0.01, 'energy': 451.462884858103},\n",
       " '1100010000': {'stat_freq': 0.02, 'energy': 506.1943258783471},\n",
       " '1100011010': {'stat_freq': 0.01, 'energy': 399.9649687557012},\n",
       " '1100100111': {'stat_freq': 0.01, 'energy': 306.23134939787536},\n",
       " '1100101101': {'stat_freq': 0.01, 'energy': 306.21304815015566},\n",
       " '1100110010': {'stat_freq': 0.01, 'energy': 399.98751739038454},\n",
       " '1100111001': {'stat_freq': 0.01, 'energy': 306.2581591166648},\n",
       " '1100111010': {'stat_freq': 0.01, 'energy': 351.5511910079249},\n",
       " '1101000111': {'stat_freq': 0.01, 'energy': 264.0418198389504},\n",
       " '1101001111': {'stat_freq': 0.01, 'energy': 224.9804855487274},\n",
       " '1101101111': {'stat_freq': 0.03, 'energy': 189.06671147252615},\n",
       " '1110001100': {'stat_freq': 0.01, 'energy': 399.91123503822234},\n",
       " '1110010000': {'stat_freq': 0.01, 'energy': 451.5176760576306},\n",
       " '1110010010': {'stat_freq': 0.02, 'energy': 399.97464531774716},\n",
       " '1110011010': {'stat_freq': 0.01, 'energy': 351.53831893600545},\n",
       " '1110011011': {'stat_freq': 0.01, 'energy': 264.0772540022094},\n",
       " '1110100000': {'stat_freq': 0.01, 'energy': 506.18145197010085},\n",
       " '1110110000': {'stat_freq': 0.01, 'energy': 399.9788983098339},\n",
       " '1110110001': {'stat_freq': 0.01, 'energy': 306.26783567871297},\n",
       " '1110110010': {'stat_freq': 0.02, 'energy': 351.5608675699716},\n",
       " '1110111010': {'stat_freq': 0.01, 'energy': 306.24954118830254},\n",
       " '1111000000': {'stat_freq': 0.01, 'energy': 451.491914416587},\n",
       " '1111110101': {'stat_freq': 0.01, 'energy': 156.2918673326537}}"
      ]
     },
     "execution_count": 7,
     "metadata": {},
     "output_type": "execute_result"
    }
   ],
   "source": [
    "optimal_binary_portfolios"
   ]
  },
  {
   "cell_type": "code",
   "execution_count": 9,
   "metadata": {},
   "outputs": [
    {
     "name": "stdout",
     "output_type": "stream",
     "text": [
      "1111110101\n"
     ]
    }
   ],
   "source": [
    "from results_parsing import get_binary_portfolio, get_minimum_energy\n",
    "\n",
    "min_energy = get_minimum_energy(optimal_binary_portfolios)\n",
    "min_energy_portfolio = ''\n",
    "for portfolio, data in optimal_binary_portfolios.items(): \n",
    "    if data['energy'] == min_energy: \n",
    "        min_energy_portfolio = portfolio\n",
    "print(min_energy_portfolio)\n",
    "# binary_asset_weights = get_binary_portfolio()(training_dataset.columns, optimal_bi)\n",
    "# binary_asset_weights"
   ]
  },
  {
   "cell_type": "code",
   "execution_count": null,
   "metadata": {},
   "outputs": [
    {
     "data": {
      "text/plain": [
       "0.0"
      ]
     },
     "execution_count": 13,
     "metadata": {},
     "output_type": "execute_result"
    }
   ],
   "source": [
    "\n",
    "\n",
    "\n",
    "get_asset_weight_decimal(binary_asset_weights['nikkei'])"
   ]
  },
  {
   "cell_type": "code",
   "execution_count": null,
   "metadata": {},
   "outputs": [
    {
     "data": {
      "text/plain": [
       "{'sp500': 0.375, 'dax': 0.375, 'ftse': 0.375, 'nikkei': 0.0, 'ibex': 0.125}"
      ]
     },
     "execution_count": 14,
     "metadata": {},
     "output_type": "execute_result"
    }
   ],
   "source": [
    "\n",
    "portfolio"
   ]
  },
  {
   "cell_type": "markdown",
   "metadata": {},
   "source": [
    "### Calculating portfolio metrics"
   ]
  },
  {
   "cell_type": "code",
   "execution_count": null,
   "metadata": {},
   "outputs": [
    {
     "data": {
      "text/plain": [
       "{'Returns': 0.18201864332913661,\n",
       " 'Volatility': 0.0832295963967742,\n",
       " 'Sharpe Ratio': 1.8264974229170783,\n",
       " 'Normalized Weights': array([0.3, 0.3, 0.3, 0. , 0.1])}"
      ]
     },
     "execution_count": 17,
     "metadata": {},
     "output_type": "execute_result"
    }
   ],
   "source": [
    "\n",
    "get_portfolio_metrics(portfolio, training_dataset)"
   ]
  },
  {
   "cell_type": "code",
   "execution_count": null,
   "metadata": {},
   "outputs": [],
   "source": [
    "import matplotlib.pyplot as plt\n",
    "sizes = optimal_portfolio_brute_force.values()\n",
    "fig, ax = plt.subplots()\n",
    "ax.pie(sizes, labels=list(optimal_portfolio_brute_force.keys()), autopct='%1.1f%%')\n",
    "plt.show()"
   ]
  },
  {
   "cell_type": "markdown",
   "metadata": {},
   "source": [
    "Parte fácil NO guiada: \n",
    "- Resolver por fuerza bruta para ver lo mala que es la optimización pero lo precisa que es la formulación"
   ]
  },
  {
   "cell_type": "markdown",
   "metadata": {},
   "source": [
    "Para hacer por libre si sabes mucho: \n",
    "\n",
    "- Trainable -> unsupervised quantum machine learning\n"
   ]
  }
 ],
 "metadata": {
  "kernelspec": {
   "display_name": "haqtoberfest24",
   "language": "python",
   "name": "python3"
  },
  "language_info": {
   "codemirror_mode": {
    "name": "ipython",
    "version": 3
   },
   "file_extension": ".py",
   "mimetype": "text/x-python",
   "name": "python",
   "nbconvert_exporter": "python",
   "pygments_lexer": "ipython3",
   "version": "3.12.5"
  }
 },
 "nbformat": 4,
 "nbformat_minor": 2
}

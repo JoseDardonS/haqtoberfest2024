{
 "cells": [
  {
   "cell_type": "markdown",
   "metadata": {},
   "source": [
    "### Extract and clean time series data"
   ]
  },
  {
   "cell_type": "code",
   "execution_count": 1,
   "metadata": {},
   "outputs": [
    {
     "name": "stderr",
     "output_type": "stream",
     "text": [
      "[*********************100%***********************]  5 of 5 completed\n"
     ]
    }
   ],
   "source": [
    "from utils import fetch_log_returns\n",
    "training_dataset = fetch_log_returns(start = '1995-01-01', end ='1995-12-31')"
   ]
  },
  {
   "cell_type": "code",
   "execution_count": 2,
   "metadata": {},
   "outputs": [
    {
     "data": {
      "text/html": [
       "<div>\n",
       "<style scoped>\n",
       "    .dataframe tbody tr th:only-of-type {\n",
       "        vertical-align: middle;\n",
       "    }\n",
       "\n",
       "    .dataframe tbody tr th {\n",
       "        vertical-align: top;\n",
       "    }\n",
       "\n",
       "    .dataframe thead th {\n",
       "        text-align: right;\n",
       "    }\n",
       "</style>\n",
       "<table border=\"1\" class=\"dataframe\">\n",
       "  <thead>\n",
       "    <tr style=\"text-align: right;\">\n",
       "      <th></th>\n",
       "      <th>sp500</th>\n",
       "      <th>dax</th>\n",
       "      <th>ftse</th>\n",
       "      <th>nikkei</th>\n",
       "      <th>ibex</th>\n",
       "    </tr>\n",
       "    <tr>\n",
       "      <th>Date</th>\n",
       "      <th></th>\n",
       "      <th></th>\n",
       "      <th></th>\n",
       "      <th></th>\n",
       "      <th></th>\n",
       "    </tr>\n",
       "  </thead>\n",
       "  <tbody>\n",
       "    <tr>\n",
       "      <th>1995-01-05 00:00:00+00:00</th>\n",
       "      <td>-0.000803</td>\n",
       "      <td>-0.010397</td>\n",
       "      <td>-0.006345</td>\n",
       "      <td>-0.003457</td>\n",
       "      <td>-0.019565</td>\n",
       "    </tr>\n",
       "    <tr>\n",
       "      <th>1995-01-06 00:00:00+00:00</th>\n",
       "      <td>0.000738</td>\n",
       "      <td>0.003280</td>\n",
       "      <td>0.010726</td>\n",
       "      <td>-0.004939</td>\n",
       "      <td>0.000000</td>\n",
       "    </tr>\n",
       "    <tr>\n",
       "      <th>1995-01-09 00:00:00+00:00</th>\n",
       "      <td>0.000326</td>\n",
       "      <td>-0.002330</td>\n",
       "      <td>-0.003006</td>\n",
       "      <td>-0.003826</td>\n",
       "      <td>-0.014346</td>\n",
       "    </tr>\n",
       "    <tr>\n",
       "      <th>1995-01-10 00:00:00+00:00</th>\n",
       "      <td>0.001843</td>\n",
       "      <td>0.004213</td>\n",
       "      <td>0.001504</td>\n",
       "      <td>0.002903</td>\n",
       "      <td>-0.005274</td>\n",
       "    </tr>\n",
       "    <tr>\n",
       "      <th>1995-01-11 00:00:00+00:00</th>\n",
       "      <td>-0.000043</td>\n",
       "      <td>-0.000155</td>\n",
       "      <td>-0.003601</td>\n",
       "      <td>0.002408</td>\n",
       "      <td>-0.010125</td>\n",
       "    </tr>\n",
       "  </tbody>\n",
       "</table>\n",
       "</div>"
      ],
      "text/plain": [
       "                              sp500       dax      ftse    nikkei      ibex\n",
       "Date                                                                       \n",
       "1995-01-05 00:00:00+00:00 -0.000803 -0.010397 -0.006345 -0.003457 -0.019565\n",
       "1995-01-06 00:00:00+00:00  0.000738  0.003280  0.010726 -0.004939  0.000000\n",
       "1995-01-09 00:00:00+00:00  0.000326 -0.002330 -0.003006 -0.003826 -0.014346\n",
       "1995-01-10 00:00:00+00:00  0.001843  0.004213  0.001504  0.002903 -0.005274\n",
       "1995-01-11 00:00:00+00:00 -0.000043 -0.000155 -0.003601  0.002408 -0.010125"
      ]
     },
     "execution_count": 2,
     "metadata": {},
     "output_type": "execute_result"
    }
   ],
   "source": [
    "training_dataset.head()"
   ]
  },
  {
   "cell_type": "markdown",
   "metadata": {},
   "source": [
    "### Define the problem instance and model parameters"
   ]
  },
  {
   "cell_type": "code",
   "execution_count": 3,
   "metadata": {},
   "outputs": [],
   "source": [
    "from model_params import LAMBDA_1, LAMBDA_2, LAMBDA_3, NLAYERS, NSHOTS, NUM_ASSETS, SIGMA_TARGET, TWO_QUBIT_GATES, K, N, RISK_FREE_RATE\n"
   ]
  },
  {
   "cell_type": "markdown",
   "metadata": {},
   "source": [
    "### Build the circuit Ansatz (without angle embedding)"
   ]
  },
  {
   "cell_type": "code",
   "execution_count": 4,
   "metadata": {},
   "outputs": [
    {
     "name": "stdout",
     "output_type": "stream",
     "text": [
      "Hardware efficient circuit ansatz\n",
      "\n",
      "q0: ─U2─U2─o─────────────────U1─U2─o─────────────────U1─M─\n",
      "q1: ─U2─U2─X─o───────────────U1─U2─X─o───────────────U1─M─\n",
      "q2: ─U2─U2───X─o─────────────U1─U2───X─o─────────────U1─M─\n",
      "q3: ─U2─U2─────X─o───────────U1─U2─────X─o───────────U1─M─\n",
      "q4: ─U2─U2───────X─o─────────U1─U2───────X─o─────────U1─M─\n",
      "q5: ─U2─U2─────────X─o───────U1─U2─────────X─o───────U1─M─\n",
      "q6: ─U2─U2───────────X─o─────U1─U2───────────X─o─────U1─M─\n",
      "q7: ─U2─U2─────────────X─o───U1─U2─────────────X─o───U1─M─\n",
      "q8: ─U2─U2───────────────X─o─U1─U2───────────────X─o─U1─M─\n",
      "q9: ─U2─U2─────────────────X─U1─U2─────────────────X─U1─M─\n"
     ]
    }
   ],
   "source": [
    "from ansatz import build_hardware_efficient_ansatz\n",
    "from ansatz import compute_number_of_params\n",
    "ansatz = build_hardware_efficient_ansatz(num_qubits=N, num_layers=NLAYERS, params=[0]*compute_number_of_params(N,NLAYERS))\n",
    "print('Hardware efficient circuit ansatz')\n",
    "print()\n",
    "print(ansatz.draw())\n"
   ]
  },
  {
   "cell_type": "markdown",
   "metadata": {},
   "source": [
    "### Build the Portfolio Optimization Hamiltonian and run the optimization process\n"
   ]
  },
  {
   "cell_type": "code",
   "execution_count": 5,
   "metadata": {},
   "outputs": [
    {
     "name": "stderr",
     "output_type": "stream",
     "text": [
      "[Qibo 0.2.8|INFO|2024-10-03 21:15:35]: Using numpy backend on /CPU:0\n"
     ]
    },
    {
     "name": "stdout",
     "output_type": "stream",
     "text": [
      "Ground state energy: 506.12950109202353\n",
      "\n",
      "Optimal parameters [3.00305892 6.02305148 2.69511672 4.16214273 2.90799832 3.73777956\n",
      " 3.80217565 1.70943149 1.60381381 0.28194164 3.38269684 1.78528101\n",
      " 0.80137024 1.31614047 0.98534239 1.34510744 0.99719482 0.4242799\n",
      " 1.6479977  4.8909712  5.98982794 3.64727171 6.01979223 3.80448353\n",
      " 1.70600622 0.29706119 3.49400537 0.06915121 1.00814346 2.17900223\n",
      " 3.67949402 3.97694322 3.43694895 3.86917298 3.67168101 3.75558203\n",
      " 6.20371015 3.70428588 3.06427133 4.2945571  4.45276059 3.03980572\n",
      " 3.26606774 3.81923083 1.1652326  3.48640188 6.23719505 5.90565563\n",
      " 3.63053771 5.86849003 0.0468147  4.6658484  2.73274717 5.47468807\n",
      " 3.36715464 2.33688017 0.84258889 5.9772209  5.76589526 3.32288782\n",
      " 1.53086988 4.87706024 4.00721624 2.65588922 0.88979672 4.73602043\n",
      " 2.3164678  3.92605223 0.69398223 2.99060068 0.57517151 0.78435133\n",
      " 4.02614136 1.91175548 5.6446198  3.17190536 0.6703977  2.11970854\n",
      " 5.34155657 2.72978963]\n",
      "\n",
      "Optimization process info  message: Optimization terminated successfully.\n",
      " success: True\n",
      "  status: 0\n",
      "     fun: 506.12950109202353\n",
      "       x: [ 3.003e+00  6.023e+00 ...  5.342e+00  2.730e+00]\n",
      "     nit: 1\n",
      "   direc: [[ 1.000e+00  0.000e+00 ...  0.000e+00  0.000e+00]\n",
      "           [ 0.000e+00  1.000e+00 ...  0.000e+00  0.000e+00]\n",
      "           ...\n",
      "           [ 0.000e+00  0.000e+00 ...  1.000e+00  0.000e+00]\n",
      "           [ 0.000e+00  0.000e+00 ...  0.000e+00  1.000e+00]]\n",
      "    nfev: 241\n"
     ]
    }
   ],
   "source": [
    "import numpy as np\n",
    "from qibo.optimizers import optimize\n",
    "from cost_function import compute_total_energy\n",
    "\n",
    "# Optimize starting from a random guess for the variational parameters\n",
    "initial_params = np.random.uniform(0, 2*np.pi, compute_number_of_params(N,NLAYERS))\n",
    "\n",
    "# perform optimization\n",
    "best, optimal_params, extra = optimize(compute_total_energy, initial_params, args=(training_dataset))\n",
    "\n",
    "# set final solution to circuit instance\n",
    "print('Ground state energy:', best)\n",
    "print()\n",
    "print('Optimal parameters', optimal_params)\n",
    "print()\n",
    "print('Optimization process info', extra)"
   ]
  },
  {
   "cell_type": "markdown",
   "metadata": {},
   "source": [
    "### Results parsing\n"
   ]
  },
  {
   "cell_type": "code",
   "execution_count": 7,
   "metadata": {},
   "outputs": [],
   "source": [
    "def get_minimum_energy(portfolios: dict) -> float:\n",
    "    energies = []\n",
    "    for data in portfolios.values():\n",
    "        energies.append(data['energy'])\n",
    "    return min(energies)\n"
   ]
  },
  {
   "cell_type": "code",
   "execution_count": 8,
   "metadata": {},
   "outputs": [],
   "source": [
    "from qibo.result import CircuitResult\n",
    "def get_max_prob(result: CircuitResult, nshots: int = NSHOTS) -> float:\n",
    "    number_of_times = result.frequencies().values()\n",
    "    probs = [freq/nshots for freq in number_of_times]\n",
    "    return max(probs)"
   ]
  },
  {
   "cell_type": "code",
   "execution_count": 9,
   "metadata": {},
   "outputs": [],
   "source": [
    "result = ansatz(nshots=100)\n"
   ]
  },
  {
   "cell_type": "code",
   "execution_count": 10,
   "metadata": {},
   "outputs": [],
   "source": [
    "from qibo.models import Circuit\n",
    "from cost_function import compute_cost_function\n",
    "from utils import string_to_int_list\n",
    "import pandas as pd\n",
    "TOLERANCE = 0.5\n",
    "\n",
    "def get_optimal_binary_portfolios(ansatz: Circuit, dataset: pd.DataFrame, nshots: int = NSHOTS, tolerance: int = TOLERANCE) -> dict:\n",
    "    result = ansatz(nshots=nshots)\n",
    "    optimal_portfolios = {}\n",
    "    for bit_string, stat_freq in result.frequencies().items():\n",
    "        if (get_max_prob(result) - stat_freq/nshots) < tolerance:\n",
    "            optimal_portfolios[bit_string] = {'stat_freq': stat_freq/nshots, 'energy': compute_cost_function(dataset, string_to_int_list(bit_string))}\n",
    "    return optimal_portfolios\n",
    "\n",
    "\n",
    "optimized_ansatz = ansatz.set_parameters(optimal_params)\n",
    "optimal_binary_portfolios = get_optimal_binary_portfolios(ansatz, training_dataset)\n"
   ]
  },
  {
   "cell_type": "code",
   "execution_count": 11,
   "metadata": {},
   "outputs": [
    {
     "data": {
      "text/plain": [
       "{'0000000101': {'stat_freq': 0.01, 'energy': 563.8917639195123},\n",
       " '0000100110': {'stat_freq': 0.01, 'energy': 563.8960217337241},\n",
       " '0000101010': {'stat_freq': 0.01, 'energy': 624.8323520703171},\n",
       " '0000110000': {'stat_freq': 0.02, 'energy': 624.8591555331126},\n",
       " '0000110111': {'stat_freq': 0.01, 'energy': 351.4824031395772},\n",
       " '0000111110': {'stat_freq': 0.01, 'energy': 399.8821337830648},\n",
       " '0001011010': {'stat_freq': 0.01, 'energy': 451.4402725211241},\n",
       " '0001100010': {'stat_freq': 0.01, 'energy': 563.9153748152622},\n",
       " '0001101111': {'stat_freq': 0.01, 'energy': 306.1453188734975},\n",
       " '0001110011': {'stat_freq': 0.01, 'energy': 351.5017562211234},\n",
       " '0001110110': {'stat_freq': 0.01, 'energy': 351.46516443776204},\n",
       " '0001111101': {'stat_freq': 0.01, 'energy': 263.9857982565288},\n",
       " '0010001010': {'stat_freq': 0.01, 'energy': 624.8194763269429},\n",
       " '0010001011': {'stat_freq': 0.01, 'energy': 506.1084113929029},\n",
       " '0010010000': {'stat_freq': 0.01, 'energy': 624.8462834598382},\n",
       " '0010011110': {'stat_freq': 0.01, 'energy': 399.86926171129176},\n",
       " '0010110000': {'stat_freq': 0.01, 'energy': 563.9325057119983},\n",
       " '0010111001': {'stat_freq': 0.01, 'energy': 399.91011669866157},\n",
       " '0011010110': {'stat_freq': 0.01, 'energy': 351.4522843721329},\n",
       " '0011100110': {'stat_freq': 0.01, 'energy': 399.86606028414496},\n",
       " '0100001010': {'stat_freq': 0.01, 'energy': 563.9437225219546},\n",
       " '0100010011': {'stat_freq': 0.01, 'energy': 399.9664339807531},\n",
       " '0100100000': {'stat_freq': 0.01, 'energy': 624.8843055677612},\n",
       " '0100100011': {'stat_freq': 0.01, 'energy': 451.5052098933438},\n",
       " '0100110111': {'stat_freq': 0.01, 'energy': 264.0549995145262},\n",
       " '0101000000': {'stat_freq': 0.01, 'energy': 563.9447760068608},\n",
       " '0101000010': {'stat_freq': 0.01, 'energy': 506.1517452669313},\n",
       " '0101000100': {'stat_freq': 0.01, 'energy': 451.4471192887931},\n",
       " '0101000111': {'stat_freq': 0.01, 'energy': 306.19302361550433},\n",
       " '0101010011': {'stat_freq': 0.01, 'energy': 306.23813034379896},\n",
       " '0101011000': {'stat_freq': 0.01, 'energy': 399.9308996358923},\n",
       " '0101100011': {'stat_freq': 0.01, 'energy': 351.52690625603736},\n",
       " '0101110111': {'stat_freq': 0.01, 'energy': 189.0766958797133},\n",
       " '0110001100': {'stat_freq': 0.01, 'energy': 451.4374388148245},\n",
       " '0110001110': {'stat_freq': 0.01, 'energy': 399.8944080751667},\n",
       " '0110010110': {'stat_freq': 0.01, 'energy': 351.503192376856},\n",
       " '0110011000': {'stat_freq': 0.01, 'energy': 451.48255345226625},\n",
       " '0110011010': {'stat_freq': 0.01, 'energy': 399.9395227125955},\n",
       " '0110100011': {'stat_freq': 0.01, 'energy': 399.9535600727691},\n",
       " '0110100100': {'stat_freq': 0.01, 'energy': 451.45999902852634},\n",
       " '0110111000': {'stat_freq': 0.02, 'energy': 399.94377570453736},\n",
       " '0111010011': {'stat_freq': 0.01, 'energy': 264.06147253037886},\n",
       " '0111100001': {'stat_freq': 0.01, 'energy': 351.5182814852591},\n",
       " '0111111010': {'stat_freq': 0.01, 'energy': 264.0474333354118},\n",
       " '1000000100': {'stat_freq': 0.01, 'energy': 624.8266253927316},\n",
       " '1000010101': {'stat_freq': 0.01, 'energy': 399.91301277214797},\n",
       " '1000011001': {'stat_freq': 0.01, 'energy': 451.474343108373},\n",
       " '1001000101': {'stat_freq': 0.01, 'energy': 399.8872591252297},\n",
       " '1001001000': {'stat_freq': 0.01, 'energy': 563.9096520919808},\n",
       " '1001100001': {'stat_freq': 0.01, 'energy': 451.47114176599104},\n",
       " '1001100100': {'stat_freq': 0.01, 'energy': 451.43454767938726},\n",
       " '1001110001': {'stat_freq': 0.01, 'energy': 351.5185881059586},\n",
       " '1001110101': {'stat_freq': 0.01, 'energy': 264.0209313892708},\n",
       " '1001110110': {'stat_freq': 0.01, 'energy': 306.18896328026415},\n",
       " '1001111100': {'stat_freq': 0.01, 'energy': 306.17065972946847},\n",
       " '1010000001': {'stat_freq': 0.01, 'energy': 563.9365696600369},\n",
       " '1010001100': {'stat_freq': 0.01, 'energy': 506.08864128204215},\n",
       " '1010001101': {'stat_freq': 0.01, 'energy': 399.8775786511761},\n",
       " '1010001111': {'stat_freq': 0.01, 'energy': 351.45954560850527},\n",
       " '1010011000': {'stat_freq': 0.01, 'energy': 506.1337559194928},\n",
       " '1010011010': {'stat_freq': 0.01, 'energy': 451.46572517977677},\n",
       " '1010011101': {'stat_freq': 0.01, 'energy': 306.175028662603},\n",
       " '1010100110': {'stat_freq': 0.01, 'energy': 451.44317075606017},\n",
       " '1010101100': {'stat_freq': 0.01, 'energy': 451.42486720533424},\n",
       " '1010110101': {'stat_freq': 0.01, 'energy': 306.19758520518934},\n",
       " '1010111011': {'stat_freq': 0.01, 'energy': 306.2158824982272},\n",
       " '1011000001': {'stat_freq': 0.01, 'energy': 451.4582580293849},\n",
       " '1011001100': {'stat_freq': 0.01, 'energy': 399.86032965223393},\n",
       " '1011001101': {'stat_freq': 0.01, 'energy': 306.14926702166264},\n",
       " '1011101001': {'stat_freq': 0.01, 'energy': 351.48315757108867},\n",
       " '1011110100': {'stat_freq': 0.01, 'energy': 306.1803362064175},\n",
       " '1011111000': {'stat_freq': 0.01, 'energy': 351.49166654196375},\n",
       " '1011111111': {'stat_freq': 0.01, 'energy': 156.23990624337054},\n",
       " '1100010010': {'stat_freq': 0.01, 'energy': 451.5262951382335},\n",
       " '1100100000': {'stat_freq': 0.01, 'energy': 563.9831017910376},\n",
       " '1100100001': {'stat_freq': 0.01, 'energy': 451.522039159413},\n",
       " '1100110100': {'stat_freq': 0.01, 'energy': 351.5328914115139},\n",
       " '1100111101': {'stat_freq': 0.01, 'energy': 225.01049449025328},\n",
       " '1101000100': {'stat_freq': 0.01, 'energy': 399.92091551221205},\n",
       " '1101100001': {'stat_freq': 0.01, 'energy': 351.54373552211666},\n",
       " '1101100101': {'stat_freq': 0.01, 'energy': 264.0460788052957},\n",
       " '1101101011': {'stat_freq': 0.01, 'energy': 264.06437609812167},\n",
       " '1101110001': {'stat_freq': 0.01, 'energy': 264.09118186216114},\n",
       " '1101111000': {'stat_freq': 0.01, 'energy': 306.24091811163856},\n",
       " '1101111110': {'stat_freq': 0.01, 'energy': 189.07522274663324},\n",
       " '1110000101': {'stat_freq': 0.01, 'energy': 351.51150669777985},\n",
       " '1110000111': {'stat_freq': 0.01, 'energy': 306.21847365511195},\n",
       " '1110010001': {'stat_freq': 0.02, 'energy': 351.55661342647585},\n",
       " '1110011100': {'stat_freq': 0.01, 'energy': 306.20868504953245},\n",
       " '1110011111': {'stat_freq': 0.01, 'energy': 189.07958937640868},\n",
       " '1110111001': {'stat_freq': 0.01, 'energy': 264.08150929718056},\n",
       " '1110111100': {'stat_freq': 0.01, 'energy': 264.0449073018665},\n",
       " '1111001110': {'stat_freq': 0.01, 'energy': 264.01489266912324},\n",
       " '1111100000': {'stat_freq': 0.01, 'energy': 399.95314033961535},\n",
       " '1111100101': {'stat_freq': 0.01, 'energy': 224.9944209920858},\n",
       " '1111110010': {'stat_freq': 0.01, 'energy': 264.08255593990515},\n",
       " '1111111111': {'stat_freq': 0.01, 'energy': 100.0625}}"
      ]
     },
     "execution_count": 11,
     "metadata": {},
     "output_type": "execute_result"
    }
   ],
   "source": [
    "optimal_binary_portfolios"
   ]
  },
  {
   "cell_type": "code",
   "execution_count": 12,
   "metadata": {},
   "outputs": [
    {
     "data": {
      "text/plain": [
       "{'sp500': '11', 'dax': '11', 'ftse': '11', 'nikkei': '00', 'ibex': '10'}"
      ]
     },
     "execution_count": 12,
     "metadata": {},
     "output_type": "execute_result"
    }
   ],
   "source": [
    "def get_asset_weights_binary(assets, ordered_bitstring, num_qubit_per_asset = K):\n",
    "    weights = [ordered_bitstring[i:i+num_qubit_per_asset] for i in range(0, len(ordered_bitstring),num_qubit_per_asset)]\n",
    "    return dict(zip(assets,weights))\n",
    "\n",
    "optimal_binary_portfolio=list(optimal_binary_portfolios.keys())[-2]\n",
    "\n",
    "binary_asset_weights = get_asset_weights_binary(training_dataset.columns, optimal_binary_portfolio)\n",
    "binary_asset_weights"
   ]
  },
  {
   "cell_type": "code",
   "execution_count": 13,
   "metadata": {},
   "outputs": [
    {
     "data": {
      "text/plain": [
       "0.0"
      ]
     },
     "execution_count": 13,
     "metadata": {},
     "output_type": "execute_result"
    }
   ],
   "source": [
    "\n",
    "def get_asset_weight_decimal(asset_bit_string):\n",
    "    w = 0\n",
    "    for k,bit in enumerate(asset_bit_string):\n",
    "       w += 2**(k-1)*int(bit)*1/(2**len(asset_bit_string)) # discretization !\n",
    "    return w  \n",
    "\n",
    "get_asset_weight_decimal(binary_asset_weights['nikkei'])"
   ]
  },
  {
   "cell_type": "code",
   "execution_count": 14,
   "metadata": {},
   "outputs": [
    {
     "data": {
      "text/plain": [
       "{'sp500': 0.375, 'dax': 0.375, 'ftse': 0.375, 'nikkei': 0.0, 'ibex': 0.125}"
      ]
     },
     "execution_count": 14,
     "metadata": {},
     "output_type": "execute_result"
    }
   ],
   "source": [
    "portfolio = {}\n",
    "for asset, w in binary_asset_weights.items():\n",
    "    portfolio[asset] = get_asset_weight_decimal(w)\n",
    "portfolio"
   ]
  },
  {
   "cell_type": "markdown",
   "metadata": {},
   "source": [
    "### Calculating portfolio metrics"
   ]
  },
  {
   "cell_type": "code",
   "execution_count": 17,
   "metadata": {},
   "outputs": [
    {
     "data": {
      "text/plain": [
       "{'Returns': 0.18201864332913661,\n",
       " 'Volatility': 0.0832295963967742,\n",
       " 'Sharpe Ratio': 1.8264974229170783,\n",
       " 'Normalized Weights': array([0.3, 0.3, 0.3, 0. , 0.1])}"
      ]
     },
     "execution_count": 17,
     "metadata": {},
     "output_type": "execute_result"
    }
   ],
   "source": [
    "def get_portfolio_metrics(portfolio: dict, dataset: pd.DataFrame, r: float = RISK_FREE_RATE):\n",
    "    import numpy as np\n",
    "    normalized_weights = list(portfolio.values()) / np.sum(list(portfolio.values()))\n",
    "\n",
    "\n",
    "    # Calculate the expected log returns, and add them to the `returns_array`.\n",
    "    annualized_ret_portfolio = np.sum((dataset.mean() * normalized_weights) * 252)\n",
    "\n",
    "\n",
    "    # Calculate the volatility, and add them to the `volatility_array`.\n",
    "    annualized_vol_portfolio = np.sqrt(\n",
    "        np.dot(normalized_weights.T, np.dot(dataset.cov() * 252, normalized_weights))\n",
    "    )\n",
    "    annualized_ret_portfolio,annualized_vol_portfolio\n",
    "\n",
    "    # Calculate the Sharpe Ratio and Add it to the `sharpe_ratio_array`.\n",
    "    sharpe_ratio= (annualized_ret_portfolio-r)/annualized_vol_portfolio\n",
    "\n",
    "    # Let's create our \"Master Data Frame\", with the weights, the returns, the volatility, and the Sharpe Ratio\n",
    "    return {'Returns':annualized_ret_portfolio, 'Volatility':annualized_vol_portfolio, 'Sharpe Ratio':sharpe_ratio, 'Normalized Weights':normalized_weights}\n",
    "get_portfolio_metrics(portfolio, training_dataset)"
   ]
  },
  {
   "cell_type": "markdown",
   "metadata": {},
   "source": [
    "Parte fácil NO guiada: \n",
    "- Resolver por fuerza bruta para ver lo mala que es la optimización pero lo precisa que es la formulación"
   ]
  },
  {
   "cell_type": "markdown",
   "metadata": {},
   "source": [
    "Para hacer por libre si sabes mucho: \n",
    "\n",
    "- Trainable -> unsupervised quantum machine learning\n"
   ]
  }
 ],
 "metadata": {
  "kernelspec": {
   "display_name": "haqtoberfest24",
   "language": "python",
   "name": "python3"
  },
  "language_info": {
   "codemirror_mode": {
    "name": "ipython",
    "version": 3
   },
   "file_extension": ".py",
   "mimetype": "text/x-python",
   "name": "python",
   "nbconvert_exporter": "python",
   "pygments_lexer": "ipython3",
   "version": "3.12.5"
  }
 },
 "nbformat": 4,
 "nbformat_minor": 2
}

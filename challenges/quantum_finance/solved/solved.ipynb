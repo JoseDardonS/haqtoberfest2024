{
 "cells": [
  {
   "cell_type": "markdown",
   "metadata": {},
   "source": [
    "### Data extraction"
   ]
  },
  {
   "cell_type": "code",
   "execution_count": 1,
   "metadata": {},
   "outputs": [
    {
     "name": "stderr",
     "output_type": "stream",
     "text": [
      "[*********************100%***********************]  5 of 5 completed\n"
     ]
    }
   ],
   "source": [
    "from utils import fetch_log_returns\n",
    "training_dataset = fetch_log_returns(start = '1995-01-01', end ='1995-12-31')"
   ]
  },
  {
   "cell_type": "code",
   "execution_count": 2,
   "metadata": {},
   "outputs": [
    {
     "data": {
      "text/plain": [
       "array([[-8.03420318e-04, -1.03968302e-02, -6.34465166e-03,\n",
       "        -3.45697194e-03, -1.95645036e-02],\n",
       "       [ 7.38303962e-04,  3.28007496e-03,  1.07261458e-02,\n",
       "        -4.93917085e-03,  0.00000000e+00],\n",
       "       [ 3.25539389e-04, -2.33000766e-03, -3.00612927e-03,\n",
       "        -3.82611528e-03, -1.43458320e-02],\n",
       "       ...,\n",
       "       [ 3.74407369e-04, -1.62287613e-04,  4.93541396e-03,\n",
       "         5.36316418e-03, -2.68870072e-02],\n",
       "       [-6.67454827e-04, -2.87200507e-03,  8.16115201e-05,\n",
       "        -6.95147773e-03,  1.73196363e-02],\n",
       "       [ 2.94296798e-03, -5.82632554e-03,  3.42115394e-03,\n",
       "        -2.50644600e-04,  8.74144700e-03]])"
      ]
     },
     "execution_count": 2,
     "metadata": {},
     "output_type": "execute_result"
    }
   ],
   "source": [
    "training_dataset.values"
   ]
  },
  {
   "cell_type": "markdown",
   "metadata": {},
   "source": [
    "### Define the problem instance parameters"
   ]
  },
  {
   "cell_type": "code",
   "execution_count": 22,
   "metadata": {},
   "outputs": [],
   "source": [
    "K = 1 # number of qubits assigned per asset \n",
    "\n",
    "NUM_ASSETS = len(training_dataset.columns) # number of assets\n",
    "N = NUM_ASSETS*K # number of total qubits\n",
    "NLAYERS = 2 # number of layers of the ansatz\n",
    "NSHOTS = 10 # when measuring the ansatz\n",
    "\n",
    "LAMBDA_1 = 1.0 # return penalty coefficient\n",
    "LAMBDA_2 = 1.0 # risk penalty coefficient\n",
    "SIGMA_TARGET = 0.1 # target volatility\n",
    "\n",
    "from qibo.gates import U1, U2, U3, CZ, CNOT\n",
    "\n",
    "TWO_QUBIT_GATES = {\"CZ\": CZ, \"CNOT\": CNOT} # tytpes of two-qubit gates"
   ]
  },
  {
   "cell_type": "markdown",
   "metadata": {},
   "source": [
    "### Create the Ansatz"
   ]
  },
  {
   "cell_type": "code",
   "execution_count": 85,
   "metadata": {},
   "outputs": [
    {
     "name": "stdout",
     "output_type": "stream",
     "text": [
      "q0: ─U2─U2─o───────U1─U2─o───────U1─U2─o───────U1─M─\n",
      "q1: ─U2─U2─X─o─────U1─U2─X─o─────U1─U2─X─o─────U1─M─\n",
      "q2: ─U2─U2───X─o───U1─U2───X─o───U1─U2───X─o───U1─M─\n",
      "q3: ─U2─U2─────X─o─U1─U2─────X─o─U1─U2─────X─o─U1─M─\n",
      "q4: ─U2─U2───────X─U1─U2───────X─U1─U2───────X─U1─M─\n"
     ]
    }
   ],
   "source": [
    "from qibo import models, gates\n",
    "\n",
    "def compute_number_of_params(num_qubits, num_layers):\n",
    "    return [0] * num_qubits * (2 * num_layers + 2 + num_layers)\n",
    "\n",
    "def build_hardware_efficient_ansatz(num_qubits: int, params: [float] = [], num_layers: int = 1, two_gate: str = \"CNOT\"):\n",
    "    c = models.Circuit(num_qubits)\n",
    "    c.add([gates.U2(qubit, 0, 0) for qubit in range(num_qubits)])\n",
    "    params = compute_number_of_params(num_qubits, num_layers)\n",
    "    for _ in range(num_layers):\n",
    "        c.add([gates.U2(qubit, 0, 0) for qubit in range(num_qubits)])\n",
    "        c.add([TWO_QUBIT_GATES[two_gate](qubit, qubit+1)] for qubit in range(0,num_qubits-1))\n",
    "        c.add([gates.U1(qubit,0) for qubit in range(num_qubits)])\n",
    "            \n",
    "    c.set_parameters(params)\n",
    "    c.add([gates.M(qubit) for qubit in range(num_qubits)])\n",
    "    return c\n",
    "\n",
    "# Example usage\n",
    "print(build_hardware_efficient_ansatz(num_qubits=5, num_layers=3).draw())\n"
   ]
  },
  {
   "cell_type": "markdown",
   "metadata": {},
   "source": [
    "### Building the Portfolio Optimization Hamiltonian"
   ]
  },
  {
   "cell_type": "code",
   "execution_count": 5,
   "metadata": {},
   "outputs": [],
   "source": [
    "\n",
    "# Define the vector that contains the pauli opeations\n",
    "import pandas as pd\n",
    "def A(i: int, bit_string: list):\n",
    "    return sum(2 ** (k - 2) * ((1 - bit_string[k + i*K]) / 2) for k in range(K))\n",
    "\n",
    "# Return term\n",
    "\n",
    "def return_cost_function(dataset: pd.DataFrame, bit_string: list[int]):\n",
    "    h1 = 0\n",
    "    for i, asset in enumerate(dataset.columns):\n",
    "        h1 += A(i,bit_string) * dataset[asset].values\n",
    "    return (-1)*sum(h1)\n",
    "\n",
    "\n",
    "# Volatility term\n",
    "\n",
    "def tilde_sigma(i: int,j: int, dataset: pd.DataFrame):\n",
    "    if i==j: \n",
    "        return dataset.cov().values[i][j]\n",
    "    elif i<j:\n",
    "        return 2 * dataset.cov().values[i][j]\n",
    "    else: \n",
    "        return 0\n",
    "\n",
    "def risk_cost_function(dataset: pd.DataFrame, bit_string: list):\n",
    "    h2 = 0\n",
    "    for i in range(NUM_ASSETS):\n",
    "        for j in range(NUM_ASSETS):  \n",
    "            h2 += tilde_sigma(i,j,dataset) * A(i, bit_string) * A(i, bit_string) - SIGMA_TARGET ** 2\n",
    "\n",
    "    return h2 ** 2\n",
    "\n",
    "# # Third term: lambda_3 * (sum(A_i) - 1)^2\n",
    "# term3 = lambda_3 * (sum(A[i] for i in range(N)) - 1) ** 2\n",
    "\n"
   ]
  },
  {
   "cell_type": "code",
   "execution_count": 6,
   "metadata": {},
   "outputs": [
    {
     "name": "stderr",
     "output_type": "stream",
     "text": [
      "[Qibo 0.2.8|INFO|2024-10-02 16:51:30]: Using numpy backend on /CPU:0\n"
     ]
    },
    {
     "name": "stdout",
     "output_type": "stream",
     "text": [
      "Ground state: -0.015186763478192852\n",
      "Optimal parameters [-2.76681648  6.30681763  6.37835661  6.30276102  6.65511022  1.62500973\n",
      "  2.20707899  0.97029306  0.65138009  2.07480658  4.34147944  1.16653827\n",
      "  2.59099218  6.68442965  6.90874322  2.46571327 10.75758374  5.20507667\n",
      "  6.40296417  2.86535356  3.46175683 -1.41040839 -0.7845615   6.22317745\n",
      "  6.9475845 ]\n",
      "Optimization process info  message: Optimization terminated successfully.\n",
      " success: True\n",
      "  status: 0\n",
      "     fun: -0.015186763478192852\n",
      "       x: [-2.767e+00  6.307e+00 ...  6.223e+00  6.948e+00]\n",
      "     nit: 2\n",
      "   direc: [[ 1.000e+00  0.000e+00 ...  0.000e+00  0.000e+00]\n",
      "           [ 0.000e+00  1.000e+00 ...  0.000e+00  0.000e+00]\n",
      "           ...\n",
      "           [ 0.000e+00  0.000e+00 ...  1.000e+00  0.000e+00]\n",
      "           [ 0.000e+00  0.000e+00 ...  0.000e+00  1.000e+00]]\n",
      "    nfev: 725\n"
     ]
    }
   ],
   "source": [
    "import numpy as np\n",
    "from qibo.optimizers import optimize\n",
    "from utils import string_to_int_list\n",
    "import qibo\n",
    "\n",
    "def compute_return_energy(result: qibo.result.CircuitResult, dataset: pd.DataFrame): \n",
    "    return_energy = 0\n",
    "    for bit_string, stat_freq in result.frequencies().items():\n",
    "        return_energy += (stat_freq / NSHOTS) * return_cost_function(dataset,string_to_int_list(bit_string))\n",
    "    return return_energy\n",
    "\n",
    "def compute_risk_energy(result: qibo.result.CircuitResult, dataset: pd.DataFrame): \n",
    "    risk_energy = 0\n",
    "    for bit_string, stat_freq in result.frequencies().items():\n",
    "        risk_energy += (stat_freq / NSHOTS) * risk_cost_function(dataset,string_to_int_list(bit_string))\n",
    "    return risk_energy\n",
    "    \n",
    "def compute_total_energy(parameters, dataset, nshots = NSHOTS):\n",
    "    \n",
    "    circuit = build_ansatz_circuit(parameters)\n",
    "    \n",
    "    # Measure the qubits quantum state\n",
    "    result = circuit(nshots=nshots) \n",
    "    total_energy = LAMBDA_1 * compute_return_energy(result,dataset) + LAMBDA_2 * compute_risk_energy(result,dataset)\n",
    "    \n",
    "    return total_energy\n",
    "\n",
    "\n",
    "\n",
    "# Optimize starting from a random guess for the variational parameters\n",
    "initial_params = np.random.uniform(0, 2*np.pi, 2*N*NLAYERS + N)\n",
    "# data = np.random.normal(0, 1, size=2**nqubits)\n",
    "\n",
    "# perform optimization\n",
    "best, params, extra = optimize(compute_total_energy, initial_params, args=(training_dataset))\n",
    "\n",
    "# set final solution to circuit instance\n",
    "print('Ground state:', best)\n",
    "\n",
    "print('Optimal parameters', params)\n",
    "\n",
    "print('Optimization process info', extra)"
   ]
  },
  {
   "cell_type": "code",
   "execution_count": 7,
   "metadata": {},
   "outputs": [
    {
     "data": {
      "text/plain": [
       "<qibo.result.CircuitResult at 0x7e0489c6bf80>"
      ]
     },
     "execution_count": 7,
     "metadata": {},
     "output_type": "execute_result"
    }
   ],
   "source": [
    "c = build_ansatz_circuit(initial_params)\n",
    "result = c(nshots=10)\n",
    "result"
   ]
  },
  {
   "cell_type": "code",
   "execution_count": 8,
   "metadata": {},
   "outputs": [
    {
     "ename": "NameError",
     "evalue": "name 'compute_energy_per_term' is not defined",
     "output_type": "error",
     "traceback": [
      "\u001b[0;31m---------------------------------------------------------------------------\u001b[0m",
      "\u001b[0;31mNameError\u001b[0m                                 Traceback (most recent call last)",
      "Cell \u001b[0;32mIn[8], line 1\u001b[0m\n\u001b[0;32m----> 1\u001b[0m \u001b[43mcompute_energy_per_term\u001b[49m(result, return_cost_function, training_dataset, string_to_int_list(\u001b[38;5;124m'\u001b[39m\u001b[38;5;124m10000\u001b[39m\u001b[38;5;124m'\u001b[39m))\n",
      "\u001b[0;31mNameError\u001b[0m: name 'compute_energy_per_term' is not defined"
     ]
    }
   ],
   "source": [
    "compute_energy_per_term(result, return_cost_function, training_dataset, string_to_int_list('10000'))"
   ]
  },
  {
   "cell_type": "code",
   "execution_count": null,
   "metadata": {},
   "outputs": [],
   "source": []
  }
 ],
 "metadata": {
  "kernelspec": {
   "display_name": "haqtoberfest24",
   "language": "python",
   "name": "python3"
  },
  "language_info": {
   "codemirror_mode": {
    "name": "ipython",
    "version": 3
   },
   "file_extension": ".py",
   "mimetype": "text/x-python",
   "name": "python",
   "nbconvert_exporter": "python",
   "pygments_lexer": "ipython3",
   "version": "3.12.5"
  }
 },
 "nbformat": 4,
 "nbformat_minor": 2
}

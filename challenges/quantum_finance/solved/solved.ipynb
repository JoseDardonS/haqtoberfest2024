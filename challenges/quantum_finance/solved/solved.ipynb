{
 "cells": [
  {
   "cell_type": "markdown",
   "metadata": {},
   "source": [
    "### Data extraction"
   ]
  },
  {
   "cell_type": "code",
   "execution_count": 1,
   "metadata": {},
   "outputs": [
    {
     "name": "stderr",
     "output_type": "stream",
     "text": [
      "[*********************100%***********************]  5 of 5 completed\n"
     ]
    }
   ],
   "source": [
    "from utils import fetch_log_returns\n",
    "training_dataset = fetch_log_returns(start = '1995-01-01', end ='1995-12-31')"
   ]
  },
  {
   "cell_type": "code",
   "execution_count": 2,
   "metadata": {},
   "outputs": [
    {
     "data": {
      "text/plain": [
       "array([[-8.03420318e-04, -1.03968302e-02, -6.34465166e-03,\n",
       "        -3.45697194e-03, -1.95645036e-02],\n",
       "       [ 7.38303962e-04,  3.28007496e-03,  1.07261458e-02,\n",
       "        -4.93917085e-03,  0.00000000e+00],\n",
       "       [ 3.25539389e-04, -2.33000766e-03, -3.00612927e-03,\n",
       "        -3.82611528e-03, -1.43458320e-02],\n",
       "       ...,\n",
       "       [ 3.74407369e-04, -1.62287613e-04,  4.93541396e-03,\n",
       "         5.36316418e-03, -2.68870072e-02],\n",
       "       [-6.67454827e-04, -2.87200507e-03,  8.16115201e-05,\n",
       "        -6.95147773e-03,  1.73196363e-02],\n",
       "       [ 2.94296798e-03, -5.82632554e-03,  3.42115394e-03,\n",
       "        -2.50644600e-04,  8.74144700e-03]])"
      ]
     },
     "execution_count": 2,
     "metadata": {},
     "output_type": "execute_result"
    }
   ],
   "source": [
    "training_dataset.values"
   ]
  },
  {
   "cell_type": "markdown",
   "metadata": {},
   "source": [
    "### Define the problem instance parameters"
   ]
  },
  {
   "cell_type": "code",
   "execution_count": 3,
   "metadata": {},
   "outputs": [],
   "source": [
    "from model_params import LAMBDA_1, LAMBDA_2, LAMBDA_3, NLAYERS, NSHOTS, NUM_ASSETS, SIGMA_TARGET, TWO_QUBIT_GATES, K, N"
   ]
  },
  {
   "cell_type": "markdown",
   "metadata": {},
   "source": [
    "### Create the Ansatz for VQE (No angle embedding)"
   ]
  },
  {
   "cell_type": "code",
   "execution_count": 4,
   "metadata": {},
   "outputs": [
    {
     "name": "stdout",
     "output_type": "stream",
     "text": [
      "q0: ─U2─U2─o───────U1─U2─o───────U1─U2─o───────U1─M─\n",
      "q1: ─U2─U2─X─o─────U1─U2─X─o─────U1─U2─X─o─────U1─M─\n",
      "q2: ─U2─U2───X─o───U1─U2───X─o───U1─U2───X─o───U1─M─\n",
      "q3: ─U2─U2─────X─o─U1─U2─────X─o─U1─U2─────X─o─U1─M─\n",
      "q4: ─U2─U2───────X─U1─U2───────X─U1─U2───────X─U1─M─\n"
     ]
    }
   ],
   "source": [
    "from ansatz import build_hardware_efficient_ansatz\n",
    "\n",
    "# Example usage\n",
    "print(build_hardware_efficient_ansatz(num_qubits=5, num_layers=3).draw())\n"
   ]
  },
  {
   "cell_type": "markdown",
   "metadata": {},
   "source": [
    "### Building the Portfolio Optimization Hamiltonian and running VQE\n"
   ]
  },
  {
   "cell_type": "code",
   "execution_count": 5,
   "metadata": {},
   "outputs": [
    {
     "name": "stderr",
     "output_type": "stream",
     "text": [
      "[Qibo 0.2.8|INFO|2024-10-03 10:02:53]: Using numpy backend on /CPU:0\n"
     ]
    },
    {
     "name": "stdout",
     "output_type": "stream",
     "text": [
      "Ground state: 0.050492103202664666\n",
      "Optimal parameters [6.08010533 1.22981948 1.19123188 1.05053993 2.49523301 5.51950142\n",
      " 1.74155263 4.61501606 4.92551146 0.08562469 1.8042936  2.00541475\n",
      " 5.1204532  1.36050054 1.97727759 3.15993379 5.25427823 1.78947582\n",
      " 5.8213211  3.83515348 1.94540998 4.76259525 1.45985886 3.13175756\n",
      " 3.27778741]\n",
      "Optimization process info  message: Optimization terminated successfully.\n",
      " success: True\n",
      "  status: 0\n",
      "     fun: 0.050492103202664666\n",
      "       x: [ 6.080e+00  1.230e+00 ...  3.132e+00  3.278e+00]\n",
      "     nit: 1\n",
      "   direc: [[ 1.000e+00  0.000e+00 ...  0.000e+00  0.000e+00]\n",
      "           [ 0.000e+00  1.000e+00 ...  0.000e+00  0.000e+00]\n",
      "           ...\n",
      "           [ 0.000e+00  0.000e+00 ...  1.000e+00  0.000e+00]\n",
      "           [ 0.000e+00  0.000e+00 ...  0.000e+00  1.000e+00]]\n",
      "    nfev: 76\n"
     ]
    }
   ],
   "source": [
    "import numpy as np\n",
    "from qibo.optimizers import optimize\n",
    "from cost_function import compute_total_energy\n",
    "\n",
    "# Optimize starting from a random guess for the variational parameters\n",
    "initial_params = np.random.uniform(0, 2*np.pi, 2*N*NLAYERS + N)\n",
    "# data = np.random.normal(0, 1, size=2**nqubits)\n",
    "\n",
    "# perform optimization\n",
    "best, params, extra = optimize(compute_total_energy, initial_params, args=(training_dataset))\n",
    "\n",
    "# set final solution to circuit instance\n",
    "print('Ground state:', best)\n",
    "\n",
    "print('Optimal parameters', params)\n",
    "\n",
    "print('Optimization process info', extra)"
   ]
  },
  {
   "cell_type": "code",
   "execution_count": null,
   "metadata": {},
   "outputs": [],
   "source": []
  }
 ],
 "metadata": {
  "kernelspec": {
   "display_name": "haqtoberfest24",
   "language": "python",
   "name": "python3"
  },
  "language_info": {
   "codemirror_mode": {
    "name": "ipython",
    "version": 3
   },
   "file_extension": ".py",
   "mimetype": "text/x-python",
   "name": "python",
   "nbconvert_exporter": "python",
   "pygments_lexer": "ipython3",
   "version": "3.12.5"
  }
 },
 "nbformat": 4,
 "nbformat_minor": 2
}

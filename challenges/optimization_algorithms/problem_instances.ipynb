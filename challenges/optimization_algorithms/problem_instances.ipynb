{
 "cells": [
  {
   "cell_type": "markdown",
   "metadata": {},
   "source": [
    "# Knapsack problem\n",
    "\n",
    "In the following notebook you will find different instances of the Knapsack Problem.\n",
    "\n",
    "The list of instances can be imported from the file `problem_instances.json`, which contains a list of different instances of the problem with different sizes. You don't need to solve all of them, it is recommended to start testing your algorithms with the smaller ones and progresively moving to the larger ones, since the computational time needed to simulate them can also grow significantly. Additionally, it can be interesting to test your algorithms with different instances of the same size in order to get a better benchmark of their performance.\n",
    "\n",
    "Each instance contains the fields\n",
    " - `id`: identifyer for the instance\n",
    " - `values`: list of values for each one of the items\n",
    " - `weights`: list of weights for each one of the items\n",
    " - `max_w`: maximum weight allowed in the solution\n",
    "\n",
    " The criterion used is that the first element in each ones of the lists corresponds to the first item of the problem and so on.\n",
    "\n",
    " We can get the list of instances by running the following code:"
   ]
  },
  {
   "cell_type": "code",
   "execution_count": 4,
   "metadata": {},
   "outputs": [],
   "source": [
    "import json\n",
    "\n",
    "with open('problem_instances.json', 'r') as json_file:\n",
    "    instances = json.load(json_file)\n"
   ]
  },
  {
   "cell_type": "markdown",
   "metadata": {},
   "source": [
    "The data of individual instances can be extracted as"
   ]
  },
  {
   "cell_type": "code",
   "execution_count": 5,
   "metadata": {},
   "outputs": [
    {
     "name": "stdout",
     "output_type": "stream",
     "text": [
      "The instance number 0 has item values [1, 3, 3, 2], item weights [2, 1, 1, 3] and a maximum allowed weight of 2\n"
     ]
    }
   ],
   "source": [
    "instance_num = 0 # We select the first instance\n",
    "\n",
    "instance = instances[instance_num]\n",
    "\n",
    "# Extract all the information\n",
    "values = instance['values']\n",
    "weights = instance['weights']\n",
    "max_w = instance['max_w']\n",
    "\n",
    "print(f'The instance number {instance_num} has item values {values}, item weights {weights} and a maximum allowed weight of {max_w}')"
   ]
  }
 ],
 "metadata": {
  "kernelspec": {
   "display_name": "haqtoberfest",
   "language": "python",
   "name": "python3"
  },
  "language_info": {
   "codemirror_mode": {
    "name": "ipython",
    "version": 3
   },
   "file_extension": ".py",
   "mimetype": "text/x-python",
   "name": "python",
   "nbconvert_exporter": "python",
   "pygments_lexer": "ipython3",
   "version": "3.10.6"
  }
 },
 "nbformat": 4,
 "nbformat_minor": 2
}

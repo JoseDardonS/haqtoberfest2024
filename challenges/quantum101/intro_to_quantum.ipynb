{
 "cells": [
  {
   "cell_type": "markdown",
   "metadata": {},
   "source": [
    "# Introduction to digital quantum computing\n",
    "\n",
    "Information for challengers: the first steps are the harder ones. In this challenge, you will clean the path for the newcomers by showing them what's a qubit and how to compute combining them. Follow the started structure to find the \n",
    "\n",
    "Sources (Qibo):  \n",
    "https://qibogang.github.io/docs/qibo/stable  \n",
    "https://qibogang.github.io/tutorials/1_getting-started  \n",
    "\n",
    "\n",
    "Sources (not Qibo):   \n",
    "https://www.iqmacademy.com/curriculum/foundations02.html  \n",
    "https://learning.quantum.ibm.com/course/basics-of-quantum-information/quantum-circuits"
   ]
  },
  {
   "cell_type": "markdown",
   "metadata": {},
   "source": [
    "## 1st exercise: basic tutorial\n",
    "\n",
    "Follow the tutorial from [qibo](https://qibogang.github.io/tutorials/1_getting-started) to get familiar with the environment. You can do it in this notebook."
   ]
  },
  {
   "cell_type": "markdown",
   "metadata": {},
   "source": [
    "Let's start importing qibo and the modules required for building our first circuit. We set the default numpy backend for this tutorial."
   ]
  },
  {
   "cell_type": "code",
   "execution_count": null,
   "metadata": {},
   "outputs": [],
   "source": [
    "import qibo\n",
    "from qibo.models import Circuit\n",
    "from qibo import gates\n",
    "\n",
    "qibo.set_backend(\"numpy\")"
   ]
  },
  {
   "cell_type": "markdown",
   "metadata": {},
   "source": [
    "After this, we can start to do quantum circuit simulation using qibo.\n",
    "\n",
    "**Simulating the superposition**  \n",
    "Now we can build up a simple circuit composed of one qubit and an Hadamard gate. This gate is such that, if applied to a ∣0⟩ state, it returns the following superposition of the fundamental states.    \n",
    "\n",
    "At the end of the circuit we put a measurement gate, in order to be able to project the final state on the z direction and to perform a simple measurement operation."
   ]
  },
  {
   "cell_type": "code",
   "execution_count": null,
   "metadata": {},
   "outputs": [],
   "source": [
    "# initialize the circuit\n",
    "c = Circuit(1)\n",
    "\n",
    "# add gates\n",
    "c.add(gates.H(q=0))\n",
    "c.add(gates.M(0))\n",
    "\n",
    "# draw circuit\n",
    "print(c.draw())"
   ]
  },
  {
   "cell_type": "markdown",
   "metadata": {},
   "source": [
    "Now we can execute the circuit 1000 times (nshots=1000), and use the simulation tool for getting the results."
   ]
  },
  {
   "cell_type": "code",
   "execution_count": null,
   "metadata": {},
   "outputs": [],
   "source": [
    "simulated_final_state = c(nshots=1000)\n",
    "\n",
    "print(simulated_final_state)"
   ]
  },
  {
   "cell_type": "markdown",
   "metadata": {},
   "source": [
    "With this execution we simulate the final state obtained applying an Hadamard gate on an initial ∣0⟩ state.\n",
    "\n",
    "**Printing frequencies**    \n",
    "Now we can use the frequencies method for visualizing the obtained results. One way to do that is to activate the binary=False option; thanks to this we get a counter object which shows us how many times the two fundamental states are registered after one thousand of executions."
   ]
  },
  {
   "cell_type": "code",
   "execution_count": null,
   "metadata": {},
   "outputs": [],
   "source": [
    "simulated_final_state.frequencies(binary=False)"
   ]
  },
  {
   "cell_type": "markdown",
   "metadata": {},
   "source": [
    "**Printing probabilities**  \n",
    "Alternatively, we can use the probabilities method."
   ]
  },
  {
   "cell_type": "code",
   "execution_count": null,
   "metadata": {},
   "outputs": [],
   "source": [
    "# calculating probabilities\n",
    "probabilities = simulated_final_state.probabilities\n",
    "\n",
    "# showing the two probabilities\n",
    "print(probabilities(qubits=[0]))"
   ]
  },
  {
   "cell_type": "markdown",
   "metadata": {},
   "source": [
    "As expected, the probability of obtaining each of the two fundamental states is equal to 0.5.\n",
    "\n",
    "you can repeat this experiment many times, but you will always get these probabilities as results."
   ]
  },
  {
   "cell_type": "code",
   "execution_count": null,
   "metadata": {},
   "outputs": [],
   "source": [
    "for _ in range(10):\n",
    "    final_state = c(nshots=1000)\n",
    "    probabilities = simulated_final_state.probabilities\n",
    "    print(probabilities(qubits=[0]))"
   ]
  },
  {
   "cell_type": "markdown",
   "metadata": {},
   "source": [
    "If you are following the qibo tutorial from the webpage, stop here."
   ]
  },
  {
   "cell_type": "markdown",
   "metadata": {},
   "source": [
    "## 2nd exercise: Bit flip\n",
    "\n",
    "Follow the learnt syntaxis to run a bitflip using qibo.  \n",
    "  \n",
    "Probably, the most basic operation that we can perform on a qbit is a bitflip. This operation consist on, given any basis state, inverting its value: \n",
    "$$ \\left| 0 \\right> \\rightarrow \\left| 1 \\right>, \\left| 1 \\right> \\rightarrow \\left| 0 \\right>$$\n",
    "\n",
    "\n",
    "Given that we always take meassurements on the Z axis, the bitflip can be applied by performing a simple Pauli X-Gate. This is, a $\\pi$ radian rotation along the X axis.\n",
    "\n",
    "<img src=\"./media/x_gate.png\" alt=\"x_gate\" class=\"bg-primary\" width=\"580\" style=\"display=block; margin-left:auto; margin-right:auto\"/>"
   ]
  },
  {
   "cell_type": "markdown",
   "metadata": {},
   "source": [
    "We will use this as a first exercise with Qibo circuits. Lets first import everything we need.\n",
    "* [Qibo Circuits](https://qibo.science/qibo/stable/api-reference/qibo.html#circuit-models)\n",
    "* [Qibo Gates](https://qibo.science/qibo/stable/api-reference/qibo.html#gates)"
   ]
  },
  {
   "cell_type": "code",
   "execution_count": null,
   "metadata": {},
   "outputs": [],
   "source": [
    "# Imports\n",
    "\n",
    "from qibo.gates import X, M\n",
    "from qibo.models.circuit import Circuit"
   ]
  },
  {
   "cell_type": "code",
   "execution_count": null,
   "metadata": {},
   "outputs": [],
   "source": [
    "# Build the circuit. Create a circuit instance and add to it an X gate to the 0th qbit and a Meassurement to all qbits.\n"
   ]
  },
  {
   "cell_type": "markdown",
   "metadata": {},
   "source": [
    "We can check the circuit using the `.summary()` and `.draw()` methods."
   ]
  },
  {
   "cell_type": "code",
   "execution_count": null,
   "metadata": {},
   "outputs": [],
   "source": [
    "# Look at the outputs of summary and draw infomrative methods"
   ]
  },
  {
   "cell_type": "code",
   "execution_count": null,
   "metadata": {},
   "outputs": [],
   "source": []
  },
  {
   "cell_type": "markdown",
   "metadata": {},
   "source": [
    "We can finally call `execute()` to simmulate the execution of the circuit. We can examine the resulting object to see that the results are the expected ones.\n",
    "\n",
    "For simple circuits, we expect a the results to be an instance of `qibo.result.CircuitResult`, but more complex circuits could also return a `qibo.result.QuantumState`, or a `qibo.result.MeasurementOutcomes`. Choosing a different qibo backend will also lead to different result objects. Docs are available at:\n",
    "* [Circuit.execute()](https://qibo.science/qibo/stable/api-reference/qibo.html#qibo.models.circuit.Circuit.execute)\n",
    "* [CircuitResult](https://qibo.science/qibo/stable/api-reference/qibo.html#qibo.result.CircuitResult)\n",
    "* [QuantumState](https://qibo.science/qibo/stable/api-reference/qibo.html#qibo.result.QuantumState)\n",
    "* [MeasurementOutcomes](https://qibo.science/qibo/stable/api-reference/qibo.html#qibo.result.MeasurementOutcomes)"
   ]
  },
  {
   "cell_type": "code",
   "execution_count": null,
   "metadata": {},
   "outputs": [],
   "source": [
    "# Execute the circuit.\n"
   ]
  },
  {
   "cell_type": "markdown",
   "metadata": {},
   "source": [
    "Several methods exist for examining the outcome of an execution. `frequencies()` counts the ocurrences of each state, `probabilities()` computes the `frequencies() / nshots` for each possible state in order, and `samples()` **generates** a distribution of states based on the theoretical distribution. More info on the api for each class, linked above."
   ]
  },
  {
   "cell_type": "code",
   "execution_count": null,
   "metadata": {},
   "outputs": [],
   "source": [
    "# Check the frequencies, probabilities and sample methods."
   ]
  },
  {
   "cell_type": "code",
   "execution_count": null,
   "metadata": {},
   "outputs": [],
   "source": []
  },
  {
   "cell_type": "code",
   "execution_count": null,
   "metadata": {},
   "outputs": [],
   "source": []
  },
  {
   "cell_type": "markdown",
   "metadata": {},
   "source": [
    "## 3rd exercise: Quantum teleportation"
   ]
  },
  {
   "cell_type": "markdown",
   "metadata": {},
   "source": [
    "In this example we will dive into quantum teleportation doing first a single teleportation, then several consecutive teleportations and we will end with a network. Find more details at the PDF called \"Teleportation and QuantumNetworks.pdf\"."
   ]
  },
  {
   "cell_type": "markdown",
   "metadata": {},
   "source": [
    "### Imports and global variables:"
   ]
  },
  {
   "cell_type": "code",
   "execution_count": null,
   "metadata": {},
   "outputs": [],
   "source": [
    "import numpy as np\n",
    "\n",
    "from qibo import Circuit, gates\n",
    "\n",
    "from helper_functions import random_state,print_random_state, print_theoretical_values, print_sampled_values, get_probabilities, execute_get_samples_and_plot, create_networkx_graph, print_networkx_graph, compute_network_path, create_secure_quantum_teleportation_path_circuit\n",
    "\n",
    "# Number of `shots` we will use during this notebook:\n",
    "shots = 10_000"
   ]
  },
  {
   "cell_type": "markdown",
   "metadata": {},
   "source": [
    "### 1) Random initial state:"
   ]
  },
  {
   "cell_type": "markdown",
   "metadata": {},
   "source": [
    "Let's generate a `random state`, for `Alice`!"
   ]
  },
  {
   "cell_type": "code",
   "execution_count": null,
   "metadata": {},
   "outputs": [],
   "source": [
    "# Generate random state:"
   ]
  },
  {
   "cell_type": "markdown",
   "metadata": {},
   "source": [
    "Now let's do a small `circuit` and see its `results` and `probabilities`:"
   ]
  },
  {
   "cell_type": "code",
   "execution_count": null,
   "metadata": {},
   "outputs": [],
   "source": [
    "# Define a small circuit to check its probabilities (whatever circuit, no matter which one):\n",
    "\n",
    "# Plot the circuit:\n",
    "\n",
    "# Run the circuit:\n",
    "\n",
    "# Theoretical values:\n",
    "state = result.state()\n",
    "probabilities = result.probabilities()\n",
    "print_theoretical_values(state, probabilities)\n",
    "\n",
    "# Sampled values (with nshots):\n",
    "# (possible because we have a Measurement gate!)\n",
    "samples = np.stack(result.samples(), axis=1)\n",
    "frequencies = result.frequencies()\n",
    "sampled_probabilities = get_probabilities(frequencies)\n",
    "print_sampled_values(samples, frequencies, sampled_probabilities)"
   ]
  },
  {
   "cell_type": "markdown",
   "metadata": {},
   "source": [
    "### 2) Teleportation circuit:\n",
    "\n",
    "\n",
    "Now we will generate the previously shown `circuit` for quantum teleportation. Find it in the PDF."
   ]
  },
  {
   "cell_type": "code",
   "execution_count": null,
   "metadata": {},
   "outputs": [],
   "source": [
    "# Define teleport circuit\n",
    "\n",
    "# Initial Alice random state\n",
    "\n",
    "# Initial Alice-Bob entangled state\n",
    "\n",
    "# Entanglement measure of Alice\n",
    "\n",
    "# From Alice's results, Bob does control Z's & X's:\n",
    "\n",
    "# Plot the circuit:"
   ]
  },
  {
   "cell_type": "code",
   "execution_count": null,
   "metadata": {},
   "outputs": [],
   "source": [
    "execute_get_samples_and_plot(circuit=c, shots=shots)"
   ]
  },
  {
   "cell_type": "markdown",
   "metadata": {},
   "source": [
    "### 3) Consecutive quantum teleports:\n",
    "\n",
    "Using an `intermediary B` we can connect `A` and `C`, that have never met before!\n",
    "\n",
    "First lets define the `graph` for such case:"
   ]
  },
  {
   "cell_type": "code",
   "execution_count": null,
   "metadata": {},
   "outputs": [],
   "source": [
    "edges = {\n",
    "    (\"Guille\", \"David\"): \"\",\n",
    "    (\"David\", \"Jacobo\"): \"\",\n",
    "}\n",
    "G = create_networkx_graph(edges)\n",
    "print_networkx_graph(G, edges)"
   ]
  },
  {
   "cell_type": "markdown",
   "metadata": {},
   "source": [
    "Now, lets do the `circuit`. Notice its the same, but with everything `duplicated`!"
   ]
  },
  {
   "cell_type": "code",
   "execution_count": null,
   "metadata": {},
   "outputs": [],
   "source": [
    "# Define teleport circuit\n",
    "\n",
    "# Initial Alice random state\n",
    "\n",
    "# Initial entangled states:\n",
    "\n",
    "# Entanglement measurements\n",
    "\n",
    "\n",
    "# From the obtained results, we do control Z's and X's to Bob:\n",
    "\n",
    "\n",
    "# Plot the circuit:"
   ]
  },
  {
   "cell_type": "code",
   "execution_count": null,
   "metadata": {},
   "outputs": [],
   "source": [
    "execute_get_samples_and_plot(circuit=c, shots=shots)"
   ]
  },
  {
   "cell_type": "markdown",
   "metadata": {},
   "source": [
    "### 4) Quantum teleportation network:\n",
    "\n",
    "\n",
    "Now lets define a more complicated `graph` for a possible `quantum network`:"
   ]
  },
  {
   "cell_type": "code",
   "execution_count": null,
   "metadata": {},
   "outputs": [],
   "source": [
    "# Our secure quantum teleportation network is:\n",
    "edges = {\n",
    "    (\"guille\",\"MAD\"): \"<-->\",\n",
    "    (\"david\",\"MAD\"): \"\",\n",
    "    (\"jacobo\",\"MAD\"): \"\",\n",
    "    (\"...\", \"MAD\"): \"\",\n",
    "    (\"arnau\", \"BCN\"): \"\",\n",
    "    (\"ameer\", \"BCN\"): \"<-->\",\n",
    "    (\"enrique\", \"BCN\"): \"\",\n",
    "    (\"....\", \"BCN\"): \"\",\n",
    "    (\"BCN\", \"MAD\"): \"<-->\",\n",
    "}\n",
    "graph_to_travel = create_networkx_graph(edges)\n",
    "print_networkx_graph(graph_to_travel, edges)"
   ]
  },
  {
   "cell_type": "markdown",
   "metadata": {},
   "source": [
    "Now telling `who` wants to send a quantum state, and to who, `we compute the needed quantum circuit`!"
   ]
  },
  {
   "cell_type": "code",
   "execution_count": null,
   "metadata": {},
   "outputs": [],
   "source": [
    "# Guille wants to send a message to ameer:\n",
    "sender = \"guille\"\n",
    "receiver = \"ameer\"\n",
    "\n",
    "# Search for the edges with shortest path\n",
    "edges = compute_network_path(graph=graph_to_travel, sender=sender, receiver=receiver)\n",
    "print(f\"The path to follow is: {edges}\")\n",
    "\n",
    "# Create and plot the neede circuit:\n",
    "automatic_circuit = create_secure_quantum_teleportation_path_circuit((theta,phi), edges)\n",
    "\n",
    "# Plot the circuit:\n",
    "print(f\"Circuit:\\n{automatic_circuit.draw()}\\n\")"
   ]
  },
  {
   "cell_type": "code",
   "execution_count": null,
   "metadata": {},
   "outputs": [],
   "source": [
    "execute_get_samples_and_plot(circuit=c, shots=shots)"
   ]
  },
  {
   "cell_type": "markdown",
   "metadata": {},
   "source": [
    "IT WORKS PERFECTLY!!!"
   ]
  }
 ],
 "metadata": {
  "kernelspec": {
   "display_name": "qiskit_1",
   "language": "python",
   "name": "python3"
  },
  "language_info": {
   "codemirror_mode": {
    "name": "ipython",
    "version": 3
   },
   "file_extension": ".py",
   "mimetype": "text/x-python",
   "name": "python",
   "nbconvert_exporter": "python",
   "pygments_lexer": "ipython3",
   "version": "3.11.9"
  }
 },
 "nbformat": 4,
 "nbformat_minor": 2
}

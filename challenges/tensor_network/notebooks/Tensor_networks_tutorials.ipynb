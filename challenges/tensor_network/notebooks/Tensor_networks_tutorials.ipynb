{
 "cells": [
  {
   "cell_type": "markdown",
   "metadata": {},
   "source": [
    "# <center> <span style=\"color: #7f1cdb;\"><b>Tensor Networks Tutorials</b></span>"
   ]
  },
  {
   "cell_type": "markdown",
   "metadata": {},
   "source": [
    "## <span style=\"color: #e6023e;\"><b>Library</b></span>"
   ]
  },
  {
   "cell_type": "code",
   "execution_count": 1,
   "metadata": {},
   "outputs": [],
   "source": [
    "import numpy as np\n",
    "\n",
    "from numpy import linalg as LA\n",
    "from ncon import ncon"
   ]
  },
  {
   "cell_type": "markdown",
   "metadata": {},
   "source": [
    "## <span style=\"color: #e6023e;\"><b>Tensor contractions</b></span>\n",
    "\n",
    "### <span style=\"color: #3b23ff;\"><b>Different ways to initialize a tensor</b></span>\n",
    "\n",
    "We explore the different ways in which a tensor can be defined in numpy."
   ]
  },
  {
   "cell_type": "code",
   "execution_count": 4,
   "metadata": {},
   "outputs": [],
   "source": [
    "# Random integer tensor of rank 3 and dimensions: (2, 3, 4)\n",
    "\n",
    "A = np.random.rand(2,3,4)\n",
    "\n",
    "# Rank 2 and 5x5 identity matrix\n",
    "\n",
    "B = np.eye(5,5)\n",
    "\n",
    "# Tensor of 1 of rank 4 of dimensions: (2, 4, 2, 4)\n",
    "\n",
    "C = np.ones((2,4,2,4))\n",
    "\n",
    "# Matrix of zeros of rank 2 and dimensions: (3, 5)\n",
    "\n",
    "D = np.zeros((3,5))\n",
    "\n",
    "# Complex tensor of rank 3 and dimensions: (2, 3, 4)\n",
    "\n",
    "E = np.random.rand(2,3,4) + 1j*np.random.rand(2,3,4)"
   ]
  },
  {
   "cell_type": "markdown",
   "metadata": {},
   "source": [
    "### <span style=\"color: #3b23ff;\"><b>Permutation and reshaping operations</b></span>\n",
    "\n",
    "We explore the different operations that can be applied to a generic tensor to change its characteristics."
   ]
  },
  {
   "cell_type": "code",
   "execution_count": 5,
   "metadata": {},
   "outputs": [],
   "source": [
    "# Tensor A of rank 4 of dimensions: (4, 4, 4, 4, 4)\n",
    "\n",
    "A = np.random.rand(4,4,4,4)\n",
    "\n",
    "# Tensor A with permuted indices (0, 1, 2, 3) --> (3, 0, 1, 2)\n",
    "\n",
    "Atilda = A.transpose(3,0,1,2)\n",
    "\n",
    "# Tensor reordered to matrix\n",
    "\n",
    "B = np.random.rand(4,4,4)\n",
    "\n",
    "# Matrix obtained from the tensor after grouping indices\n",
    "\n",
    "Btilda = B.reshape(4,4**2)"
   ]
  },
  {
   "cell_type": "markdown",
   "metadata": {},
   "source": [
    "### <span style=\"color: #3b23ff;\"><b>Binary tensor contractions</b></span>\n",
    "\n",
    "A fundamental operation within tensor networks consists of contracting tensors with each other to generate tensors of new ranges. An example of the contraction of two tensors to generate a new tensor is shown below.\n",
    "\n",
    "<center> <img src=\"figures/binary_tensor_contractions.png\" width=\"1000\"/>\n"
   ]
  },
  {
   "cell_type": "code",
   "execution_count": 4,
   "metadata": {},
   "outputs": [],
   "source": [
    "d = 10\n",
    "A = np.random.rand(d,d,d,d)  \n",
    "B = np.random.rand(d,d,d,d)\n",
    "\n",
    "# Reorder indexes\n",
    "\n",
    "Ap  = A.transpose(0,2,1,3)\n",
    "Bp = B.transpose(0,3,1,2)\n",
    "\n",
    "# We group indexes\n",
    "\n",
    "App = Ap.reshape(d**2,d**2)\n",
    "Bpp = Bp.reshape(d**2,d**2)\n",
    "\n",
    "# We contract tensor\n",
    "\n",
    "Cpp = App @ Bpp\n",
    "\n",
    "# Ungroup and recover the desired rank tensor\n",
    "            \n",
    "C   = Cpp.reshape(d,d,d,d)"
   ]
  },
  {
   "cell_type": "markdown",
   "metadata": {},
   "source": [
    "### <span style=\"color: #3b23ff;\"><b>Contraction of tensor networks</b></span>\n",
    "\n",
    "A generalization of the previous example consists of the contraction of a large tensor network to give rise to a single equivalent tensor.\n",
    "\n",
    "<center> <img src=\"figures/tensor_network_contraction.png\" width=\"400\"/> </center>\n",
    "\n",
    "To perform the contraction operations, the network links are usually labeled in order to sort and clarify the contraction operations.\n",
    "\n",
    "\n",
    "<center> <img src=\"figures/tensor_network_contraction_label.png\" width=\"400\"/>"
   ]
  },
  {
   "cell_type": "code",
   "execution_count": 5,
   "metadata": {},
   "outputs": [],
   "source": [
    "# we define the internal dimensions\n",
    "\n",
    "d = 10\n",
    "\n",
    "# we define the random tensors\n",
    "\n",
    "A = np.random.rand(d,d,d)\n",
    "B = np.random.rand(d,d,d,d)\n",
    "C = np.random.rand(d,d,d)\n",
    "D = np.random.rand(d,d)\n",
    "\n",
    "# We implement the shrinkage operation by using the ncon function\n",
    "\n",
    "TensorArray = [A,B,C,D]\n",
    "\n",
    "IndexArray = [[1,-2,2],[-1,1,3,4],[5,3,2],[4,5]]\n",
    "\n",
    "E = ncon(TensorArray,IndexArray)"
   ]
  },
  {
   "cell_type": "markdown",
   "metadata": {},
   "source": [
    "## <span style=\"color: #e6023e;\"><b>Tensor Decompositions</b></span>"
   ]
  },
  {
   "cell_type": "markdown",
   "metadata": {},
   "source": [
    "### <span style=\"color: #3b23ff;\"><b>Tensor decomposition with SVD</b></span>\n",
    "\n",
    "Application of the SVD method to a generic tensor and obtaining the tensor after the application of the SVD method without truncation and with truncation.\n",
    "\n",
    "<center> <img src=\"figures/tensor_svd.png\" width=\"400\"/>"
   ]
  },
  {
   "cell_type": "code",
   "execution_count": 8,
   "metadata": {},
   "outputs": [
    {
     "name": "stdout",
     "output_type": "stream",
     "text": [
      "Overlap entre Af y A: 8.765138211706499e-14\n"
     ]
    }
   ],
   "source": [
    "# We define the dimension\n",
    "\n",
    "d = 10\n",
    "\n",
    "# We generate a rank 3 tensor\n",
    "\n",
    "A = np.random.rand(d,d,d)\n",
    "\n",
    "# We regroup the indices of the tensor to transform it into a matrix for the SVD.\n",
    "\n",
    "Am = A.reshape(d**2,d)\n",
    "\n",
    "# We apply the SVD method\n",
    "\n",
    "Um, Sm, Vh = LA.svd(Am,full_matrices=False)\n",
    "\n",
    "# We convert U back to tensor\n",
    "\n",
    "U = Um.reshape(d,d,d) \n",
    "\n",
    "# We create the diagonal matrix of singular values\n",
    "\n",
    "S = np.diag(Sm)\n",
    "\n",
    "# We contract tensor\n",
    "\n",
    "Af = ncon([U,S,Vh],[[-1,-2,1],[1,2],[2,-3]])\n",
    "dA = LA.norm(Af-A)\n",
    "\n",
    "print('Overlap between Af and A:', dA)"
   ]
  },
  {
   "cell_type": "code",
   "execution_count": 9,
   "metadata": {},
   "outputs": [
    {
     "name": "stdout",
     "output_type": "stream",
     "text": [
      "Overlap entre Af y A: 18.215371758671477\n",
      "Overlap entre Af y A: 8.57828451092276\n",
      "Overlap entre Af y A: 7.761218714659284\n",
      "Overlap entre Af y A: 7.101177612700055\n",
      "Overlap entre Af y A: 6.392531658691875\n",
      "Overlap entre Af y A: 5.667444616660384\n",
      "Overlap entre Af y A: 4.930436080025812\n",
      "Overlap entre Af y A: 4.155563241297999\n",
      "Overlap entre Af y A: 3.2158549336479516\n",
      "Overlap entre Af y A: 2.1250529357082266\n",
      "Overlap entre Af y A: 1.141286101714939e-13\n"
     ]
    }
   ],
   "source": [
    "# We perform the same procedure but generate a truncation by applying the SVD method to reduce the dimensionality of the system.\n",
    "# We define the dimension\n",
    "\n",
    "d = 10\n",
    "\n",
    "# We generate a rank 3 tensor\n",
    "\n",
    "A = np.random.rand(d,d,d)\n",
    "\n",
    "# We regroup the indices of the tensor to transform it into a matrix for the SVD.\n",
    "\n",
    "Am = A.reshape(d**2,d)\n",
    "\n",
    "# We truncate the matrix S to reduce the matrix dimension\n",
    "\n",
    "for j in range(d + 1):\n",
    "    \n",
    "    Um, Sm, Vh = LA.svd(Am,full_matrices=False)\n",
    "\n",
    "    for i in range(j, len(Sm)):\n",
    "        Sm[i] = 0\n",
    "\n",
    "    U = Um.reshape(d,d,d) \n",
    "    S = np.diag(Sm)\n",
    "\n",
    "    # We contract tensor\n",
    "\n",
    "    Af = ncon([U,S,Vh],[[-1,-2,1],[1,2],[2,-3]])\n",
    "    dA = LA.norm(Af-A)\n",
    "\n",
    "    print('Overlap between Af and A:', dA)\n",
    "\n"
   ]
  }
 ],
 "metadata": {
  "kernelspec": {
   "display_name": "Python 3",
   "language": "python",
   "name": "python3"
  },
  "language_info": {
   "codemirror_mode": {
    "name": "ipython",
    "version": 3
   },
   "file_extension": ".py",
   "mimetype": "text/x-python",
   "name": "python",
   "nbconvert_exporter": "python",
   "pygments_lexer": "ipython3",
   "version": "3.12.5"
  }
 },
 "nbformat": 4,
 "nbformat_minor": 2
}

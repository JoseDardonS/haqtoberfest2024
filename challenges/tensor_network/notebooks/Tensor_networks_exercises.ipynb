{
 "cells": [
  {
   "cell_type": "markdown",
   "metadata": {},
   "source": [
    "# <center> <span style=\"color: #7f1cdb;\"><b>Tensor networks exercises</b></span>"
   ]
  },
  {
   "cell_type": "markdown",
   "metadata": {},
   "source": [
    "## <span style=\"color: #e6023e;\"><b>Library</b></span>"
   ]
  },
  {
   "cell_type": "code",
   "execution_count": 10,
   "metadata": {},
   "outputs": [],
   "source": [
    "import numpy as np\n",
    "\n",
    "from numpy import linalg as LA\n",
    "from ncon import ncon"
   ]
  },
  {
   "cell_type": "markdown",
   "metadata": {},
   "source": [
    "## <span style=\"color: #e6023e;\"><b>Matrix Product States in open boundary conditions</b></span>\n",
    "\n",
    "### <span style=\"color: #3b23ff;\"><b>Exercise 1</b></span>\n",
    "\n",
    "Write a function that creates a **Matrix Product State (MPS)** with open boundary conditions where all the tensors-elements are 0.\n",
    "\n",
    "The function will be called `zeros_mps()` and will have 3 input parameters:\n",
    "- d: the physical or local dimension (it is the dimension of the leg pointing downwards).\n",
    "- chi: the maximum bond dimension.\n",
    "- n_sites: the number of sites of the lattice.\n",
    "\n",
    "As output it will give a list with n_sites elements where every element is a 3 leg tensor full of zero's.\n",
    "\n",
    "Hints:\n",
    "- In an MPS with *open boundary conditions* not all the bonds (links between tensors) have the same dimension. \n",
    "Example: an MPS for a system of 10 qubits would have 9 links. If the maximum bond dimension is 14, the dimensions of these bonds would be 2, 4, 8, 14, 14, 14, 8, 4, 2.\n",
    "\n",
    "- Use the function `np.zeros()`\n"
   ]
  },
  {
   "cell_type": "code",
   "execution_count": null,
   "metadata": {},
   "outputs": [],
   "source": [
    "# Exercise 1)\n"
   ]
  },
  {
   "cell_type": "markdown",
   "metadata": {},
   "source": [
    "### <span style=\"color: #3b23ff;\"><b>Exercise 2</b></span>\n",
    "\n",
    "a) Write one function `random_mps(d, chi, n_sites)` that gives as output an MPS with all its tensor-elements random complex numbers.\n",
    "\n",
    "b) Write one function `product_mps(d, chi, n_sites)` that creates the MPS associated to the quantum state |0000...00>.\n",
    "\n",
    "Hint: \n",
    "- Use the function `np.random.rand()`\n",
    "- The imaginary unit in Python is `1j`"
   ]
  },
  {
   "cell_type": "code",
   "execution_count": 13,
   "metadata": {},
   "outputs": [],
   "source": [
    "# Exercise 2.a)\n"
   ]
  },
  {
   "cell_type": "code",
   "execution_count": null,
   "metadata": {},
   "outputs": [],
   "source": [
    "# Exercise 2.b)\n"
   ]
  },
  {
   "cell_type": "markdown",
   "metadata": {},
   "source": [
    "## <span style=\"color: #e6023e;\"><b>Coefficient of a computational basis element</b></span>\n",
    "\n",
    "### <span style=\"color: #3b23ff;\"><b>Exercise 3</b></span>\n",
    "\n",
    "a) Write a function that returns the value of the coefficient of a given element of the computational basis.\n",
    "\n",
    "The element of the computational basis can be indicated by a bit string s of length n_sites. *Example*: If the bit string is '000101110', the outcome of the function is <000101110|MPS>\n",
    "\n",
    "b) Test the  function `product_mps(d, chi, n_sites)` that you have created in the previous exercice and check that \n",
    "<000...00|Product state>=1 and 0 otherwise."
   ]
  },
  {
   "cell_type": "code",
   "execution_count": 15,
   "metadata": {},
   "outputs": [],
   "source": [
    "# Exercise 3.a)\n"
   ]
  },
  {
   "cell_type": "code",
   "execution_count": 16,
   "metadata": {},
   "outputs": [],
   "source": [
    "# Exercise 3.b)\n"
   ]
  },
  {
   "cell_type": "markdown",
   "metadata": {},
   "source": [
    "## <span style=\"color: #e6023e;\"><b>Left orthogonal form of and norm</b></span>"
   ]
  },
  {
   "cell_type": "markdown",
   "metadata": {},
   "source": [
    "### <span style=\"color: #3b23ff;\"><b>Exercise 4</b></span>\n",
    "\n",
    "The left orhtogonal form is defined as follows\n",
    "\n",
    "<center> <img src=\"figures/mps_left_form.png\" width=\"700\"/> </center>\n",
    "\n",
    "with the property that\n",
    "\n",
    "<center> <img src=\"figures/mps_left_form_property.png\" width=\"250\"/> </center>\n",
    "\n",
    "a) Write a function that brings a single tensor of an MPS in a *left orthogonal form*. The input of the function is a 3-leg tensor and the output is the new 3-leg tensor in its left-orthogonal form and a matrix that needs to plugged into the left leg of the right neighbour tensor in the MPS in order that the global MPS does not change.\n",
    "\n",
    "b) Write a function that brings the first *n_stop* tensors of an MPS (starting from the left) into a *left orthogonal form*. If no *n_stop* is provided, it brings all the tensors of the MPS into the LO form, except for the last one (first tensor of the right).\n",
    "\n"
   ]
  },
  {
   "cell_type": "code",
   "execution_count": null,
   "metadata": {},
   "outputs": [],
   "source": [
    "# Exercise 4.a)\n"
   ]
  },
  {
   "cell_type": "code",
   "execution_count": null,
   "metadata": {},
   "outputs": [],
   "source": [
    "# Exercise 4.b)\n"
   ]
  },
  {
   "cell_type": "markdown",
   "metadata": {},
   "source": [
    "### <span style=\"color: #3b23ff;\"><b>Exercise 5</b></span>\n",
    "\n",
    "a) Write a function `norm_mps()` that computes the norm of an MPS, that is, the contraction of an MPS with itself (complex conjugate).\n",
    "\n",
    "b) Test the functions of the previous exercices 4b and 5a by:\n",
    "- generating a random MPS *A* and computing its norm\n",
    "- bringing *A* into an left orthogonal form\n",
    "- computing the norm of *A* by only contracting its last tensor.\n",
    "If the previous functions work, the norm of the original MPS needs to coincide with the norm of the last tensor of MPS in the left orthogonal form."
   ]
  },
  {
   "cell_type": "code",
   "execution_count": null,
   "metadata": {},
   "outputs": [],
   "source": [
    "# Exercise 5.a)\n"
   ]
  },
  {
   "cell_type": "code",
   "execution_count": null,
   "metadata": {},
   "outputs": [],
   "source": [
    "# Exercise 5.b)\n"
   ]
  },
  {
   "cell_type": "markdown",
   "metadata": {},
   "source": [
    "## <span style=\"color: #e6023e;\"><b>Reduced density matrix of a single qubit</b></span>\n",
    "### <span style=\"color: #3b23ff;\"><b>Exercise 6</b></span>\n",
    "\n",
    "Write a function that computes the **the reduced density matrix** of a single qubit of an MPS. \n",
    "\n",
    "The function will have as input the list of tensors that represent the MPS and the position of a qubit for which the density matrix needs to be calculated. As output it will give the reduced density matrix of the indicated qubit, a  2x2 matrix.\n",
    "\n",
    "Hints:\n",
    "\n",
    "- Diagramatically, the reduced density matrix of a qubit is very similar to the norm of the MPS. The difference is that while in the norm of the MPS we have 2 copies of the MPS with all the legs between them contracted, the reduced density matrix has all the legs contracted except for the two corresponding to the qubit whose reduced density matrix is computed.\n",
    "\n",
    "- It can be useful to write first two functions that compute the left environment and the right environment of the qubit."
   ]
  },
  {
   "cell_type": "code",
   "execution_count": null,
   "metadata": {},
   "outputs": [],
   "source": [
    "# Exercise 6)\n",
    "\n"
   ]
  },
  {
   "cell_type": "markdown",
   "metadata": {},
   "source": [
    "## <span style=\"color: #e6023e;\"><b>Center of orthogonality</b></span>\n",
    "### <span style=\"color: #3b23ff;\"><b>Exercise 7</b></span>\n",
    "\n",
    "Implement the center of orthogonality in the link located between tensors B and C.\n",
    "\n",
    "<center> <img src=\"figures/tensor_network_center.png\" width=\"500\"/> </center>\n",
    "\n",
    "The new netwoks tensor should look like the following image\n",
    "\n",
    "<center> <img src=\"figures/tensor_network_center_new.png\" width=\"500\"/> </center>\n",
    "\n",
    "In order to convert the link into an orthogonality center, the following steps are necessary:\n",
    "\n",
    "- Calculate the density matrix to the left and to the right of the link, $\\rho_{left}$ and $\\rho_{right}$. \n",
    "- Find the matrices $X$ and $X^{\\dagger}$ such that $\\rho= XX^{\\dagger}$ for each density matrix.\n",
    "- Calculate  $\\sigma'$ as $\\sigma' = X_{left} I X_{right}$\n",
    "- Calculate  $B'$ as $B' = BX_{left}^{-1}$\n",
    "- Calculate  $C'$ as $C' = X_{right}^{-1}C$\n",
    "\n",
    "If you are blocked <span style=\"color: yellow;\">[click here](https://www.tensors.net/tutorial-4)</span>"
   ]
  },
  {
   "cell_type": "code",
   "execution_count": null,
   "metadata": {},
   "outputs": [],
   "source": [
    "# Exercise 7)\n"
   ]
  }
 ],
 "metadata": {
  "kernelspec": {
   "display_name": "Python 3",
   "language": "python",
   "name": "python3"
  },
  "language_info": {
   "codemirror_mode": {
    "name": "ipython",
    "version": 3
   },
   "file_extension": ".py",
   "mimetype": "text/x-python",
   "name": "python",
   "nbconvert_exporter": "python",
   "pygments_lexer": "ipython3",
   "version": "3.11.4"
  }
 },
 "nbformat": 4,
 "nbformat_minor": 2
}

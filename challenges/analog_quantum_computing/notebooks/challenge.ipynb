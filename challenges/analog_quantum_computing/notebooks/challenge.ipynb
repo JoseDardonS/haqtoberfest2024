{
 "cells": [
  {
   "cell_type": "markdown",
   "metadata": {},
   "source": [
    "It is crucial that you thoroughly read the tutorial before starting this challenge. For the first part we will closely follow <a href=\"https://arxiv.org/abs/2002.11217\">M. Khezri et al. Anneal-path correction in flux qubits</a> Suplementary material section 3."
   ]
  },
  {
   "cell_type": "code",
   "execution_count": 1,
   "metadata": {},
   "outputs": [],
   "source": [
    "# import all necessary libraries (feel free to add more if you need them)\n",
    "import cas\n"
   ]
  },
  {
   "cell_type": "markdown",
   "metadata": {},
   "source": [
    "## Part 1 - Exploring the qubit space"
   ]
  },
  {
   "cell_type": "markdown",
   "metadata": {},
   "source": [
    "#### Qubit definition\n",
    "The first step is to create a qubit object. We will be using the CAS code for that. We will take the parameters given by <a href=\"https://arxiv.org/abs/2103.06461\">M. Khezri et al. Customized quantum annealing schedules</a>"
   ]
  },
  {
   "cell_type": "code",
   "execution_count": 2,
   "metadata": {},
   "outputs": [
    {
     "name": "stderr",
     "output_type": "stream",
     "text": [
      "/home/victor/envs/fluqe/lib/python3.10/site-packages/scipy/sparse/linalg/_dsolve/linsolve.py:603: SparseEfficiencyWarning: splu converted its input to CSC format\n",
      "  return splu(A).solve\n"
     ]
    }
   ],
   "source": [
    "i_c = 242; c_shunt = 62; c_z = 4.85; lq = 480; alpha = 0.4; d = 0\n",
    "# create a qubit\n",
    "qubit = cas.CSFQ(i_c, c_shunt, c_z, lq, alpha, d)"
   ]
  },
  {
   "cell_type": "markdown",
   "metadata": {},
   "source": [
    "#### Exercise 1:\n",
    "You can get the hamiltonian with `qubit.get_h(phi_x, phi_z)`. Do a sweep on a reasonable range of $\\Phi_x$, $Phi_z$ and plot the energy gap of the ground and excited levels of the qubits for that range. You should obtain a figure like the following:"
   ]
  },
  {
   "cell_type": "markdown",
   "metadata": {},
   "source": [
    "#### Exercise 2:\n",
    "The persistent current operator is defined as $$\\hat{I_p} = \\frac{\\partial H(\\Phi_x, \\Phi_z)}{\\partial \\Phi_z}$$\n",
    "Calculate $I_p^{low}$ as defined in Khezri's paper (suplementary note 3). Then plot the first and second eigvenvalues of the persistent current to identify the valid anneal regions."
   ]
  },
  {
   "cell_type": "markdown",
   "metadata": {},
   "source": [
    "#### Exercise 3:\n",
    "Still following the same section from Khezri's paper, now calculate the values for the ising coefficients of the effective hamiltonian. Pay special attention to the contraints applied so that $H_{eff}$ can be expressed solely in terms of $\\sigma_x$ and $\\sigma_y$"
   ]
  },
  {
   "cell_type": "markdown",
   "metadata": {},
   "source": [
    "## Part 2 - Quantum annealing"
   ]
  },
  {
   "cell_type": "markdown",
   "metadata": {},
   "source": [
    "A very common quantum gate is the <a href=\"https://en.wikipedia.org/wiki/Quantum_logic_gate\">Hadamard gate</a>. This gate can be used to move a qubit in an eigenstate of the $\\sigma_z$ basis (the basis in which we typically measure the qubit for gate based computing) to an equal superposition of the basis' eigenstates. Feel free to do the calculation by yourself by seeing how the gate matrix acts on either the $|0\\rangle$ or the $|1\\rangle$ states."
   ]
  },
  {
   "cell_type": "markdown",
   "metadata": {},
   "source": [
    "#### Exercise 1\n",
    "What could be the initial and final hamiltonians of an annealing algorithm to perform a Hadamard gate on an analog quantum computer?"
   ]
  },
  {
   "cell_type": "markdown",
   "metadata": {},
   "source": [
    "#### Exercise 2\n",
    "Design an annealing schedule for the hamiltonians above. Find appropiate values of $\\Delta$ and $\\varepsilon$ within the annealing region from your findings in Part 1. Do not worry too much about adiabaticity here, this will be tackled in the next section."
   ]
  },
  {
   "cell_type": "markdown",
   "metadata": {},
   "source": [
    "#### Exercise 3\n",
    "\n",
    "Find a schedule for the analog Hadamard gate which fulfills adiabaticity"
   ]
  },
  {
   "cell_type": "markdown",
   "metadata": {},
   "source": [
    "## Part 3 - Open challenge"
   ]
  },
  {
   "cell_type": "markdown",
   "metadata": {},
   "source": [
    "#### Exercise 1\n",
    "Given the analog algorithm for the Hadamard gate, optimize it so that the schedule total time is minimal while still fulfilling adiabaticity."
   ]
  },
  {
   "cell_type": "markdown",
   "metadata": {},
   "source": [
    "#### Exercise 2\n",
    "Explore the same problem for a 2 qubit gate of your choice. You can find examples on how to create coupled systems on the <a href=\"https://github.com/USCqserver/CAS/blob/master/docs/examples/multi_qubit_schedules.ipynb\">CAS repository</a>\n",
    "\n"
   ]
  }
 ],
 "metadata": {
  "kernelspec": {
   "display_name": "fluqe",
   "language": "python",
   "name": "python3"
  },
  "language_info": {
   "codemirror_mode": {
    "name": "ipython",
    "version": 3
   },
   "file_extension": ".py",
   "mimetype": "text/x-python",
   "name": "python",
   "nbconvert_exporter": "python",
   "pygments_lexer": "ipython3",
   "version": "3.10.12"
  }
 },
 "nbformat": 4,
 "nbformat_minor": 2
}
